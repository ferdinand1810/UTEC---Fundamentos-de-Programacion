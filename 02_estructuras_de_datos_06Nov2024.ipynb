{
  "nbformat": 4,
  "nbformat_minor": 0,
  "metadata": {
    "colab": {
      "provenance": [],
      "include_colab_link": true
    },
    "kernelspec": {
      "name": "python3",
      "display_name": "Python 3"
    },
    "language_info": {
      "name": "python"
    }
  },
  "cells": [
    {
      "cell_type": "markdown",
      "metadata": {
        "id": "view-in-github",
        "colab_type": "text"
      },
      "source": [
        "<a href=\"https://colab.research.google.com/github/ferdinand1810/UTEC---Fundamentos-de-Programacion/blob/main/02_estructuras_de_datos_06Nov2024.ipynb\" target=\"_parent\"><img src=\"https://colab.research.google.com/assets/colab-badge.svg\" alt=\"Open In Colab\"/></a>"
      ]
    },
    {
      "cell_type": "markdown",
      "source": [
        "<img src=\"https://www.ctic.uni.edu.pe/wp-content/uploads/2022/04/588px-x-348px-web-1.png\" alt=\"HTML5 Icon\" width=\"900\" height=\"350\" >\n"
      ],
      "metadata": {
        "id": "a2Ojkh4ciEiA"
      }
    },
    {
      "cell_type": "markdown",
      "source": [
        "<h1 align=center><font size = 5>ESTRUCTURAS DE DATOS - PARTE 1\n",
        "</font></h1>\n",
        "\n",
        "---"
      ],
      "metadata": {
        "id": "-amNk-kqiHO2"
      }
    },
    {
      "cell_type": "markdown",
      "source": [
        "## Tabla de Contenidos\n",
        "\n",
        "<div class=\"alert alert-block alert-info\" style=\"margin-top: 20px\">\n",
        "\n",
        "<font size = 3>\n",
        "    \n",
        "1. <a href=\"#item31\">Listas</a>  \n",
        "2. <a href=\"#item31\">Tuplas</a>  \n",
        "3. <a href=\"#item31\">Slicing</a>  \n",
        "4. <a href=\"#item31\">List comprehension</a>  \n",
        "</font>\n",
        "</div>\n",
        "\n",
        "---\n",
        "\n",
        "\n",
        "\n"
      ],
      "metadata": {
        "id": "qJ6hLRHNiQCG"
      }
    },
    {
      "cell_type": "markdown",
      "source": [
        "## <b>Objetivo:</b>\n",
        "\n",
        "Este laboratorio está diseñado para cubrir los conceptos de listas, tuplas, slicing, y listas por comprensión, con ejercicios detallados para practicar la manipulación de estos tipos de datos en Python.\n",
        "\n",
        "---"
      ],
      "metadata": {
        "id": "1XCUOST_igWZ"
      }
    },
    {
      "cell_type": "markdown",
      "source": [
        "## <b>1. Trabajando con Listas numéricas</b>\n",
        "\n",
        "Las listas son una secuencia de elementos que pueden ser modificados después de su creación. Vamos a realizar varias operaciones con listas numéricas, utilizando también la función range() para generar secuencias de números.\n",
        "\n"
      ],
      "metadata": {
        "id": "MWslSPQKjLYb"
      }
    },
    {
      "cell_type": "markdown",
      "source": [
        "### Ejemplo 1.1: Creación de listas\n"
      ],
      "metadata": {
        "id": "WVuNuyWsjXsU"
      }
    },
    {
      "cell_type": "code",
      "source": [
        "my_list = [1, 2, 3, 4, 5, 'hola', [1, 2, '3']]"
      ],
      "metadata": {
        "id": "X4uGMEfBEW3o"
      },
      "execution_count": null,
      "outputs": []
    },
    {
      "cell_type": "code",
      "source": [
        "print(my_list)"
      ],
      "metadata": {
        "colab": {
          "base_uri": "https://localhost:8080/"
        },
        "id": "-8MNEKaWE0ve",
        "outputId": "7395c515-2400-473b-b5a7-c1ce01305b3a"
      },
      "execution_count": null,
      "outputs": [
        {
          "output_type": "stream",
          "name": "stdout",
          "text": [
            "[1, 2, 3, 4, 5, 'hola', [1, 2, '3']]\n"
          ]
        }
      ]
    },
    {
      "cell_type": "code",
      "source": [
        "students = ['Angelo', 'Diego', 'Edgar', 'Edwin', 'Enrique']\n",
        "students"
      ],
      "metadata": {
        "colab": {
          "base_uri": "https://localhost:8080/"
        },
        "id": "_1t6FPMeFP-E",
        "outputId": "1721c8a6-e917-4b27-e39f-8ea3ba03a18c"
      },
      "execution_count": null,
      "outputs": [
        {
          "output_type": "execute_result",
          "data": {
            "text/plain": [
              "['Angelo', 'Diego', 'Edgar', 'Edwin', 'Enrique']"
            ]
          },
          "metadata": {},
          "execution_count": 6
        }
      ]
    },
    {
      "cell_type": "code",
      "source": [
        "# -5           -4       -3      -2       -1\n",
        "# 0,            1,       2,       3,       4\n",
        "# ['Angelo', 'Diego', 'Edgar', 'Edwin', 'Enrique']"
      ],
      "metadata": {
        "id": "fL5KOyBEFr9A"
      },
      "execution_count": null,
      "outputs": []
    },
    {
      "cell_type": "code",
      "source": [
        "students[2]"
      ],
      "metadata": {
        "colab": {
          "base_uri": "https://localhost:8080/",
          "height": 35
        },
        "id": "J3EjAUCmGKXE",
        "outputId": "21a4fcff-5118-4db4-d63c-6f8790d79bef"
      },
      "execution_count": null,
      "outputs": [
        {
          "output_type": "execute_result",
          "data": {
            "text/plain": [
              "'Edgar'"
            ],
            "application/vnd.google.colaboratory.intrinsic+json": {
              "type": "string"
            }
          },
          "metadata": {},
          "execution_count": 8
        }
      ]
    },
    {
      "cell_type": "code",
      "source": [
        "students[3]"
      ],
      "metadata": {
        "colab": {
          "base_uri": "https://localhost:8080/",
          "height": 35
        },
        "id": "ZuYgiKHBGPy2",
        "outputId": "faf2576d-4c9a-4f04-9139-ecb8467343e9"
      },
      "execution_count": null,
      "outputs": [
        {
          "output_type": "execute_result",
          "data": {
            "text/plain": [
              "'Edwin'"
            ],
            "application/vnd.google.colaboratory.intrinsic+json": {
              "type": "string"
            }
          },
          "metadata": {},
          "execution_count": 9
        }
      ]
    },
    {
      "cell_type": "code",
      "source": [
        "students[-4]"
      ],
      "metadata": {
        "colab": {
          "base_uri": "https://localhost:8080/",
          "height": 35
        },
        "id": "_f34b7_IGToH",
        "outputId": "effae893-8fab-44f5-c8f2-0571989c98ad"
      },
      "execution_count": null,
      "outputs": [
        {
          "output_type": "execute_result",
          "data": {
            "text/plain": [
              "'Diego'"
            ],
            "application/vnd.google.colaboratory.intrinsic+json": {
              "type": "string"
            }
          },
          "metadata": {},
          "execution_count": 10
        }
      ]
    },
    {
      "cell_type": "code",
      "source": [
        "#Slicing\n",
        "\n",
        "#Quiero extraer a Edgar y Edwin. Tener en cuenta que:\n",
        "#[2 - 4>\n",
        "students[2:4]  #En python siempre tomada como cerrada la izquierda, pero la derecha abierto."
      ],
      "metadata": {
        "colab": {
          "base_uri": "https://localhost:8080/"
        },
        "id": "nYn4_PBeGYVk",
        "outputId": "2b34e17c-e736-4f02-8419-7b4d5dfa756f"
      },
      "execution_count": null,
      "outputs": [
        {
          "output_type": "execute_result",
          "data": {
            "text/plain": [
              "['Edgar', 'Edwin']"
            ]
          },
          "metadata": {},
          "execution_count": 12
        }
      ]
    },
    {
      "cell_type": "code",
      "source": [
        "#[-3 -1>\n",
        "students[-3:-1]"
      ],
      "metadata": {
        "colab": {
          "base_uri": "https://localhost:8080/"
        },
        "id": "i9OOR7ALHKHy",
        "outputId": "c8dde60c-c9cf-40b2-eff2-7370bfbd3fad"
      },
      "execution_count": null,
      "outputs": [
        {
          "output_type": "execute_result",
          "data": {
            "text/plain": [
              "['Edgar', 'Edwin']"
            ]
          },
          "metadata": {},
          "execution_count": 13
        }
      ]
    },
    {
      "cell_type": "markdown",
      "source": [],
      "metadata": {
        "id": "cg7dK0tmI_Ng"
      }
    },
    {
      "cell_type": "code",
      "source": [
        "#          0, 1, 2, 3, 4, 5, 6, 7, 8, 9, 10, 11\n",
        "\n",
        "my_list = [1, 2, 3, 4, 5, 6, 7, 8, 9, 10, 11, 12]\n",
        "print(my_list[7])\n",
        "\n",
        "print(my_list[-5])\n",
        "\n",
        "print(my_list[0: 3])\n",
        "\n",
        "print(my_list[-3:])"
      ],
      "metadata": {
        "colab": {
          "base_uri": "https://localhost:8080/"
        },
        "id": "kTKvj6LfITgq",
        "outputId": "1c7ee705-378d-4a4c-aace-87513e6d37f0"
      },
      "execution_count": null,
      "outputs": [
        {
          "output_type": "stream",
          "name": "stdout",
          "text": [
            "8\n",
            "8\n",
            "[1, 2, 3]\n",
            "[10, 11, 12]\n"
          ]
        }
      ]
    },
    {
      "cell_type": "code",
      "source": [
        "# Con indice negativo [3, 4, 5]\n",
        "# extraer el listado [7, 8, 9]\n",
        "# Extraigan el valor 8\n",
        "# Extraigan el valor [[7, 8, 9], 10, 11, 12]\n",
        "\n",
        "my_list = [1, 2, 3, 4, 5, 6, [7, 8, 9], 10, 11, 12]\n",
        "\n",
        "print(my_list[-8: -5])\n",
        "\n",
        "print(my_list[6])\n",
        "\n",
        "print(my_list[6][1])\n",
        "\n",
        "print(my_list[6: 10])\n",
        "\n",
        "print(my_list[6:])"
      ],
      "metadata": {
        "colab": {
          "base_uri": "https://localhost:8080/"
        },
        "id": "39ArvTSvJEcR",
        "outputId": "056b0d45-e4ac-4b97-aed2-b2b1c1fc7c99"
      },
      "execution_count": null,
      "outputs": [
        {
          "output_type": "stream",
          "name": "stdout",
          "text": [
            "[3, 4, 5]\n",
            "[7, 8, 9]\n",
            "8\n",
            "[[7, 8, 9], 10, 11, 12]\n",
            "[[7, 8, 9], 10, 11, 12]\n"
          ]
        }
      ]
    },
    {
      "cell_type": "code",
      "source": [
        "# tamaño de la lista\n",
        "len(my_list)"
      ],
      "metadata": {
        "colab": {
          "base_uri": "https://localhost:8080/"
        },
        "id": "1oI-J0rVQcM9",
        "outputId": "43986a31-08ad-4572-db8c-cf72b265f75e"
      },
      "execution_count": null,
      "outputs": [
        {
          "output_type": "execute_result",
          "data": {
            "text/plain": [
              "10"
            ]
          },
          "metadata": {},
          "execution_count": 23
        }
      ]
    },
    {
      "cell_type": "code",
      "source": [
        "list_a = ['R', 'Python', 'C++']\n",
        "list_b = ['Spark', 'Julia', 'Python']\n",
        "\n",
        "list_a + list_b"
      ],
      "metadata": {
        "colab": {
          "base_uri": "https://localhost:8080/"
        },
        "id": "JzkVTasaQlzN",
        "outputId": "d30f7ef3-8e81-4495-e0e5-820ca3a7bf27"
      },
      "execution_count": null,
      "outputs": [
        {
          "output_type": "execute_result",
          "data": {
            "text/plain": [
              "['R', 'Python', 'C++', 'Spark', 'Julia', 'Python']"
            ]
          },
          "metadata": {},
          "execution_count": 24
        }
      ]
    },
    {
      "cell_type": "code",
      "source": [
        "list_a.append('Spark')\n",
        "print[list_a]"
      ],
      "metadata": {
        "colab": {
          "base_uri": "https://localhost:8080/",
          "height": 161
        },
        "id": "xiXVr444Q-3Y",
        "outputId": "278a5253-2b2d-4a66-d0e0-077c0ac1994d"
      },
      "execution_count": null,
      "outputs": [
        {
          "output_type": "error",
          "ename": "TypeError",
          "evalue": "'builtin_function_or_method' object is not subscriptable",
          "traceback": [
            "\u001b[0;31m---------------------------------------------------------------------------\u001b[0m",
            "\u001b[0;31mTypeError\u001b[0m                                 Traceback (most recent call last)",
            "\u001b[0;32m<ipython-input-28-2ecaabee0593>\u001b[0m in \u001b[0;36m<cell line: 2>\u001b[0;34m()\u001b[0m\n\u001b[1;32m      1\u001b[0m \u001b[0mlist_a\u001b[0m\u001b[0;34m.\u001b[0m\u001b[0mappend\u001b[0m\u001b[0;34m(\u001b[0m\u001b[0;34m'Spark'\u001b[0m\u001b[0;34m)\u001b[0m\u001b[0;34m\u001b[0m\u001b[0;34m\u001b[0m\u001b[0m\n\u001b[0;32m----> 2\u001b[0;31m \u001b[0mprint\u001b[0m\u001b[0;34m[\u001b[0m\u001b[0mlist_a\u001b[0m\u001b[0;34m]\u001b[0m\u001b[0;34m\u001b[0m\u001b[0;34m\u001b[0m\u001b[0m\n\u001b[0m",
            "\u001b[0;31mTypeError\u001b[0m: 'builtin_function_or_method' object is not subscriptable"
          ]
        }
      ]
    },
    {
      "cell_type": "code",
      "source": [
        "#Escribe un programa que va recibir el nombre de los estudiantes y los va a guardar en una lista\n",
        "\n",
        "list_nombre = []\n",
        "while True:\n",
        "    name = input('Hola ¿Cual es tu nombre? (Escriba exit para salir): ')\n",
        "    if name == 'exit':\n",
        "        break\n",
        "    else:\n",
        "      list_nombre.append(name)\n",
        "      print('lista actualizada', list_nombre)"
      ],
      "metadata": {
        "colab": {
          "base_uri": "https://localhost:8080/"
        },
        "id": "LGODmXsxRn4X",
        "outputId": "5808c611-9ca5-4b50-cc73-a81128d418a8"
      },
      "execution_count": null,
      "outputs": [
        {
          "name": "stdout",
          "output_type": "stream",
          "text": [
            "Hola ¿Cual es tu nombre? (Escriba exit para salir): Luis\n",
            "lista actualizada ['Luis']\n",
            "Hola ¿Cual es tu nombre? (Escriba exit para salir): Fernando\n",
            "lista actualizada ['Luis', 'Fernando']\n",
            "Hola ¿Cual es tu nombre? (Escriba exit para salir): Juan\n",
            "lista actualizada ['Luis', 'Fernando', 'Juan']\n",
            "Hola ¿Cual es tu nombre? (Escriba exit para salir): Jhon\n",
            "lista actualizada ['Luis', 'Fernando', 'Juan', 'Jhon']\n",
            "Hola ¿Cual es tu nombre? (Escriba exit para salir): Luca\n",
            "lista actualizada ['Luis', 'Fernando', 'Juan', 'Jhon', 'Luca']\n",
            "Hola ¿Cual es tu nombre? (Escriba exit para salir): Exit\n",
            "lista actualizada ['Luis', 'Fernando', 'Juan', 'Jhon', 'Luca', 'Exit']\n",
            "Hola ¿Cual es tu nombre? (Escriba exit para salir): Exit\n",
            "lista actualizada ['Luis', 'Fernando', 'Juan', 'Jhon', 'Luca', 'Exit', 'Exit']\n",
            "Hola ¿Cual es tu nombre? (Escriba exit para salir): exit\n"
          ]
        }
      ]
    },
    {
      "cell_type": "code",
      "source": [
        "# Crear una lista de frutas\n",
        "frutas = [\"manzana\", \"banana\", \"naranja\", \"uva\", \"pera\"]\n"
      ],
      "metadata": {
        "id": "_nYyKe_bjHY5"
      },
      "execution_count": null,
      "outputs": []
    },
    {
      "cell_type": "code",
      "execution_count": null,
      "metadata": {
        "id": "MNGFUaC6hyfi"
      },
      "outputs": [],
      "source": [
        "\n",
        "# Acceder a elementos individuales\n",
        "primera_fruta = frutas[0]\n",
        "ultima_fruta = frutas[-1]\n",
        "print(primera_fruta, ultima_fruta)\n",
        "\n"
      ]
    },
    {
      "cell_type": "code",
      "source": [
        "# Modificar un elemento\n",
        "frutas[1] = \"plátano\"\n",
        "print(frutas)"
      ],
      "metadata": {
        "id": "hbnOS3lsjdWc"
      },
      "execution_count": null,
      "outputs": []
    },
    {
      "cell_type": "code",
      "source": [
        "# escribir una lista de 1 al 99\n",
        "#[ >\n",
        "\n",
        "for x in range(1, 100):\n",
        "  print(x)\n",
        "\n",
        "\n"
      ],
      "metadata": {
        "colab": {
          "base_uri": "https://localhost:8080/"
        },
        "id": "QzCZAbiUWUDX",
        "outputId": "897da47e-290f-420e-cb7d-a3d94b9d9b78"
      },
      "execution_count": null,
      "outputs": [
        {
          "output_type": "stream",
          "name": "stdout",
          "text": [
            "1\n",
            "2\n",
            "3\n",
            "4\n",
            "5\n",
            "6\n",
            "7\n",
            "8\n",
            "9\n",
            "10\n",
            "11\n",
            "12\n",
            "13\n",
            "14\n",
            "15\n",
            "16\n",
            "17\n",
            "18\n",
            "19\n",
            "20\n",
            "21\n",
            "22\n",
            "23\n",
            "24\n",
            "25\n",
            "26\n",
            "27\n",
            "28\n",
            "29\n",
            "30\n",
            "31\n",
            "32\n",
            "33\n",
            "34\n",
            "35\n",
            "36\n",
            "37\n",
            "38\n",
            "39\n",
            "40\n",
            "41\n",
            "42\n",
            "43\n",
            "44\n",
            "45\n",
            "46\n",
            "47\n",
            "48\n",
            "49\n",
            "50\n",
            "51\n",
            "52\n",
            "53\n",
            "54\n",
            "55\n",
            "56\n",
            "57\n",
            "58\n",
            "59\n",
            "60\n",
            "61\n",
            "62\n",
            "63\n",
            "64\n",
            "65\n",
            "66\n",
            "67\n",
            "68\n",
            "69\n",
            "70\n",
            "71\n",
            "72\n",
            "73\n",
            "74\n",
            "75\n",
            "76\n",
            "77\n",
            "78\n",
            "79\n",
            "80\n",
            "81\n",
            "82\n",
            "83\n",
            "84\n",
            "85\n",
            "86\n",
            "87\n",
            "88\n",
            "89\n",
            "90\n",
            "91\n",
            "92\n",
            "93\n",
            "94\n",
            "95\n",
            "96\n",
            "97\n",
            "98\n",
            "99\n"
          ]
        }
      ]
    },
    {
      "cell_type": "markdown",
      "source": [
        "### Ejemplo 1.2: Métodos útiles de listas\n",
        "\n"
      ],
      "metadata": {
        "id": "oa1fRACgjlV_"
      }
    },
    {
      "cell_type": "code",
      "source": [
        "# Agregar un elemento al final\n",
        "frutas.append(\"kiwi\")\n",
        "print(frutas)\n"
      ],
      "metadata": {
        "id": "yrlpPiGWjol1"
      },
      "execution_count": null,
      "outputs": []
    },
    {
      "cell_type": "code",
      "source": [
        "\n",
        "# Insertar un elemento en una posición específica\n",
        "frutas.insert(2, \"mango\")\n",
        "print(frutas)\n"
      ],
      "metadata": {
        "id": "wx9q6KbWnZ56"
      },
      "execution_count": null,
      "outputs": []
    },
    {
      "cell_type": "code",
      "source": [
        "# Eliminar un elemento\n",
        "frutas.remove(\"naranja\")\n",
        "print(frutas)\n"
      ],
      "metadata": {
        "id": "XVXLcedpna3G"
      },
      "execution_count": null,
      "outputs": []
    },
    {
      "cell_type": "code",
      "source": [
        "# Ordenar una lista\n",
        "frutas.sort()\n",
        "print(frutas)\n"
      ],
      "metadata": {
        "id": "v0vdv2Wknb4y"
      },
      "execution_count": null,
      "outputs": []
    },
    {
      "cell_type": "code",
      "source": [
        "# Ordenar en reversa\n",
        "frutas.sort(reverse=True)\n",
        "print(frutas)"
      ],
      "metadata": {
        "id": "Z6ermqmGncXu"
      },
      "execution_count": null,
      "outputs": []
    },
    {
      "cell_type": "markdown",
      "source": [
        "### Ejemplo 1.3: Operaciones numéricas con listas\n",
        "\n"
      ],
      "metadata": {
        "id": "zxB2ys0rm21v"
      }
    },
    {
      "cell_type": "code",
      "source": [
        "digits = [1, 2, 3, 4, 5, 6, 7, 8, 9, 0]\n",
        "\n",
        "print(\"Mínimo:\", min(digits))\n",
        "print(\"Máximo:\", max(digits))\n",
        "print(\"Suma:\", sum(digits))\n",
        "\n",
        "\n",
        "numeros = [1, 2, 3, 4, 5, 6, 7, 8, 9, 10]\n",
        "\n",
        "# Mínimo, máximo y suma\n",
        "print(\"Mínimo:\", min(numeros))\n",
        "print(\"Máximo:\", max(numeros))\n",
        "print(\"Suma total:\", sum(numeros))\n",
        "\n",
        "# Longitud de la lista\n",
        "print(\"Cantidad de elementos:\", len(numeros))\n",
        "\n",
        "# Promedio de los valores en la lista\n",
        "promedio = sum(numeros) / len(numeros)\n",
        "print(\"Promedio:\", promedio)\n"
      ],
      "metadata": {
        "id": "kSOIel4Wm8D2"
      },
      "execution_count": null,
      "outputs": []
    },
    {
      "cell_type": "markdown",
      "source": [
        "## 1.2: Uso de la función range()\n"
      ],
      "metadata": {
        "id": "x_ULJgErpMDb"
      }
    },
    {
      "cell_type": "markdown",
      "source": [
        "La función range() se utiliza para generar secuencias de números, y es especialmente útil cuando se quiere evitar la creación manual de listas largas de números consecutivos."
      ],
      "metadata": {
        "id": "2gHPgAIxpskX"
      }
    },
    {
      "cell_type": "markdown",
      "source": [
        "### Ejemplo 1.4: Creación de listas con range()\n"
      ],
      "metadata": {
        "id": "zgXTDTTIpvwz"
      }
    },
    {
      "cell_type": "code",
      "source": [
        "# Crear una lista con los números del 1 al 10\n",
        "lista_numeros = list(range(1, 11))\n",
        "print(\"Números del 1 al 10:\", lista_numeros)\n"
      ],
      "metadata": {
        "id": "oSjCMXolp0_a"
      },
      "execution_count": null,
      "outputs": []
    },
    {
      "cell_type": "code",
      "source": [
        "# Crear una lista con los números pares entre 2 y 20\n",
        "pares = list(range(2, 21, 2))\n",
        "print(\"Números pares del 2 al 20:\", pares)\n"
      ],
      "metadata": {
        "id": "irHM5QenptAD"
      },
      "execution_count": null,
      "outputs": []
    },
    {
      "cell_type": "code",
      "source": [
        "# Crear una lista de números en orden inverso (del 10 al 1)\n",
        "reversa = list(range(10, 0, -1))\n",
        "print(\"Números en orden inverso:\", reversa)\n"
      ],
      "metadata": {
        "id": "SFRs3Qv1p56E"
      },
      "execution_count": null,
      "outputs": []
    },
    {
      "cell_type": "code",
      "source": [
        "# Crear una lista de múltiplos de 5 entre 0 y 50\n",
        "multiplos_de_5 = list(range(0, 51, 5))\n",
        "print(\"Múltiplos de 5 entre 0 y 50:\", multiplos_de_5)\n"
      ],
      "metadata": {
        "id": "u9dMaOU8p6UX"
      },
      "execution_count": null,
      "outputs": []
    },
    {
      "cell_type": "markdown",
      "source": [
        "### Ejercicio 1.1: Operaciones numéricas con listas\n",
        "\n",
        "- Crea una lista de números entre 1 y 100 usando la función range() (verás cómo usarla en el próximo ejemplo).\n",
        "\n",
        "- Calcula la media de los valores de la lista usando las funciones sum() y len().\n",
        "\n",
        "- Usa sorted() para crear una lista ordenada inversamente de los primeros 50 números.\n",
        "\n",
        "- Crea una lista que contenga solo los números mayores a 50, multiplicados por 2."
      ],
      "metadata": {
        "id": "H0ED3Dkxm8cd"
      }
    },
    {
      "cell_type": "code",
      "source": [],
      "metadata": {
        "id": "8Yot9kIypKuw"
      },
      "execution_count": null,
      "outputs": []
    },
    {
      "cell_type": "markdown",
      "source": [
        "## <b>2. Listas por Comprensión</b>\n",
        "\n",
        "Las listas por comprensión son una forma concisa de crear listas nuevas a partir de una expresión. Se pueden utilizar para realizar operaciones sobre secuencias de forma más rápida y sin necesidad de ciclos explícitos.\n",
        "\n"
      ],
      "metadata": {
        "id": "8q_I9AOBjpH7"
      }
    },
    {
      "cell_type": "code",
      "source": [
        "for x in [1, 2, 3]:\n",
        "  print(x)"
      ],
      "metadata": {
        "colab": {
          "base_uri": "https://localhost:8080/"
        },
        "id": "fZS8IHNeXsMo",
        "outputId": "e8343a94-2267-496c-99da-e7e30d0acb36"
      },
      "execution_count": null,
      "outputs": [
        {
          "output_type": "stream",
          "name": "stdout",
          "text": [
            "1\n",
            "2\n",
            "3\n"
          ]
        }
      ]
    },
    {
      "cell_type": "code",
      "source": [
        "[x for x in [1, 2, 3]]"
      ],
      "metadata": {
        "colab": {
          "base_uri": "https://localhost:8080/"
        },
        "id": "eejO2oLJXyEA",
        "outputId": "b6d9f92f-51e8-4e26-d052-7c09eaf173f5"
      },
      "execution_count": null,
      "outputs": [
        {
          "output_type": "execute_result",
          "data": {
            "text/plain": [
              "[1, 2, 3]"
            ]
          },
          "metadata": {},
          "execution_count": 35
        }
      ]
    },
    {
      "cell_type": "code",
      "source": [
        "# Quiero que cada elemento de mi lista x cumpla\n",
        "[x for x in range(1, 11)]"
      ],
      "metadata": {
        "colab": {
          "base_uri": "https://localhost:8080/"
        },
        "id": "fS3yGcrGW6B-",
        "outputId": "eb3ccc99-4f38-48e4-ae60-cea15741a34d"
      },
      "execution_count": null,
      "outputs": [
        {
          "output_type": "execute_result",
          "data": {
            "text/plain": [
              "[1, 2, 3, 4, 5, 6, 7, 8, 9, 10]"
            ]
          },
          "metadata": {},
          "execution_count": 33
        }
      ]
    },
    {
      "cell_type": "code",
      "source": [
        "[x**2 for x in range(1, 11)]"
      ],
      "metadata": {
        "colab": {
          "base_uri": "https://localhost:8080/"
        },
        "id": "5ECUvYJEYeDD",
        "outputId": "cbf73927-d1e2-4a42-860c-909b7c618951"
      },
      "execution_count": null,
      "outputs": [
        {
          "output_type": "execute_result",
          "data": {
            "text/plain": [
              "[1, 4, 9, 16, 25, 36, 49, 64, 81, 100]"
            ]
          },
          "metadata": {},
          "execution_count": 36
        }
      ]
    },
    {
      "cell_type": "code",
      "source": [
        "from math import log\n",
        "[log(x) for x in range(1, 11)]"
      ],
      "metadata": {
        "colab": {
          "base_uri": "https://localhost:8080/"
        },
        "id": "eJNErc2EYxwz",
        "outputId": "1085ac1b-d07a-4a16-b2e2-8df0a79b7625"
      },
      "execution_count": null,
      "outputs": [
        {
          "output_type": "execute_result",
          "data": {
            "text/plain": [
              "[0.0,\n",
              " 0.6931471805599453,\n",
              " 1.0986122886681098,\n",
              " 1.3862943611198906,\n",
              " 1.6094379124341003,\n",
              " 1.791759469228055,\n",
              " 1.9459101490553132,\n",
              " 2.0794415416798357,\n",
              " 2.1972245773362196,\n",
              " 2.302585092994046]"
            ]
          },
          "metadata": {},
          "execution_count": 37
        }
      ]
    },
    {
      "cell_type": "code",
      "source": [
        "# solo si sean multiplos de 17\n",
        "[x for x in range(1, 100) if x%17 == 0]\n"
      ],
      "metadata": {
        "colab": {
          "base_uri": "https://localhost:8080/"
        },
        "id": "XOnKWgguY-T7",
        "outputId": "2040d201-c3a4-461c-dcfa-37646c8b5090"
      },
      "execution_count": null,
      "outputs": [
        {
          "output_type": "execute_result",
          "data": {
            "text/plain": [
              "[17, 34, 51, 68, 85]"
            ]
          },
          "metadata": {},
          "execution_count": 38
        }
      ]
    },
    {
      "cell_type": "code",
      "source": [
        "features_pas = ['ahorros_prom12', 'abonos_prom12', 'cargo_prom12', 'trxn_prom12']\n",
        "features_rcc = ['deuda_prom12', 'entidades_prom12', 'atraso_prom12']\n",
        "\n",
        "my_list1 = ['pas_' + x.upper() for x in features_pas]\n",
        "my_list2 = ['rcc_' + x.upper() for x in features_rcc]\n",
        "\n",
        "my_list1 + my_list2"
      ],
      "metadata": {
        "colab": {
          "base_uri": "https://localhost:8080/"
        },
        "id": "B6EjhKU0Ze1u",
        "outputId": "b6282e7f-dcb8-4402-8436-f133b66377ae"
      },
      "execution_count": null,
      "outputs": [
        {
          "output_type": "execute_result",
          "data": {
            "text/plain": [
              "['pas_AHORROS_PROM12',\n",
              " 'pas_ABONOS_PROM12',\n",
              " 'pas_CARGO_PROM12',\n",
              " 'pas_TRXN_PROM12',\n",
              " 'rcc_DEUDA_PROM12',\n",
              " 'rcc_ENTIDADES_PROM12',\n",
              " 'rcc_ATRASO_PROM12']"
            ]
          },
          "metadata": {},
          "execution_count": 39
        }
      ]
    },
    {
      "cell_type": "markdown",
      "source": [
        "### Ejemplo 2.1: Generación de listas por comprensión\n"
      ],
      "metadata": {
        "id": "o3SzxNcajzk4"
      }
    },
    {
      "cell_type": "code",
      "source": [
        "# Crear una lista de cuadrados de los números del 1 al 10\n",
        "cuadrados = [x**2 for x in range(1, 11)]\n",
        "print(cuadrados)\n",
        "\n"
      ],
      "metadata": {
        "id": "Uu2JI0Ycj7DM"
      },
      "execution_count": null,
      "outputs": []
    },
    {
      "cell_type": "code",
      "source": [
        "# Crear una lista de números pares entre 1 y 20\n",
        "pares = [x for x in range(1, 21) if x % 2 == 0]\n",
        "print(pares)\n"
      ],
      "metadata": {
        "id": "j8UcjDF7j9JX"
      },
      "execution_count": null,
      "outputs": []
    },
    {
      "cell_type": "markdown",
      "source": [
        "### Ejemplo 2.2: Listas por comprensión con manipulación de cadenas\n",
        "\n"
      ],
      "metadata": {
        "id": "v9o0-F4FkBRa"
      }
    },
    {
      "cell_type": "code",
      "source": [
        "# Crear una lista con las primeras letras en mayúsculas de una lista de nombres\n",
        "\n",
        "nombres = [\"juan\", \"pedro\", \"ana\", \"maria\"]\n",
        "nombres_mayuscula = [nombre.capitalize() for nombre in nombres]\n",
        "print(nombres_mayuscula)\n"
      ],
      "metadata": {
        "id": "V3ZGMDOKkY29",
        "colab": {
          "base_uri": "https://localhost:8080/"
        },
        "outputId": "40625f54-e86f-46a3-868e-81f30d33e787"
      },
      "execution_count": null,
      "outputs": [
        {
          "output_type": "stream",
          "name": "stdout",
          "text": [
            "['Juan', 'Pedro', 'Ana', 'Maria']\n"
          ]
        }
      ]
    },
    {
      "cell_type": "markdown",
      "source": [
        "### Ejercicio 2: Creación avanzada con listas por comprensión\n",
        "\n",
        "- Crea una lista de los números impares entre 1 y 50.\n",
        "- Genera una lista con los cubos de los primeros 10 números (1 al 10).\n",
        "- Dada una lista de palabras, crea una nueva lista que contenga las palabras con más de 4 letras en mayúsculas.\n"
      ],
      "metadata": {
        "id": "ONAVddiUkk0I"
      }
    },
    {
      "cell_type": "code",
      "source": [
        "impares = [x for x in range(1, 51) if x % 2 != 0]\n",
        "print(impares)\n"
      ],
      "metadata": {
        "id": "jfyhX8FmksPF",
        "colab": {
          "base_uri": "https://localhost:8080/"
        },
        "outputId": "d28488e5-106b-4143-9b0e-105eb9a307a3"
      },
      "execution_count": null,
      "outputs": [
        {
          "output_type": "stream",
          "name": "stdout",
          "text": [
            "[1, 3, 5, 7, 9, 11, 13, 15, 17, 19, 21, 23, 25, 27, 29, 31, 33, 35, 37, 39, 41, 43, 45, 47, 49]\n"
          ]
        }
      ]
    },
    {
      "cell_type": "code",
      "source": [
        "cubic_numbers = [x**3 for x in range(1, 11)]\n",
        "print(cubic_numbers)"
      ],
      "metadata": {
        "colab": {
          "base_uri": "https://localhost:8080/"
        },
        "id": "P3qSNygncd1P",
        "outputId": "a0325899-9f70-4233-a80b-d74f6388f70b"
      },
      "execution_count": null,
      "outputs": [
        {
          "output_type": "stream",
          "name": "stdout",
          "text": [
            "[1, 8, 27, 64, 125, 216, 343, 512, 729, 1000]\n"
          ]
        }
      ]
    },
    {
      "cell_type": "code",
      "source": [
        "List= ['sedimentos', 'agua', 'palizada', 'erosion']\n",
        "\n",
        "new_list = [List.upper() for List in List if len(List) > 4]\n",
        "\n",
        "print(new_list)"
      ],
      "metadata": {
        "colab": {
          "base_uri": "https://localhost:8080/"
        },
        "id": "k6g3gxUZcw7_",
        "outputId": "149e6318-4223-4917-89ee-8d041f817dac"
      },
      "execution_count": null,
      "outputs": [
        {
          "output_type": "stream",
          "name": "stdout",
          "text": [
            "['SEDIMENTOS', 'PALIZADA', 'EROSION']\n"
          ]
        }
      ]
    },
    {
      "cell_type": "code",
      "source": [
        "word_list = []\n",
        "\n",
        "while True:\n",
        "  word = input(\"Ingrese una palabra (escriba exit para salir): \")\n",
        "  if word == \"exit\":\n",
        "    break\n",
        "  else:\n",
        "    word_list.append(word)\n",
        "    print(\"lista actualizada\", word_list)\n",
        "\n",
        "word_mayusculaa = [word.upper() for word in word_list if len(word) > 4]\n",
        "print(word_mayusculaa)"
      ],
      "metadata": {
        "colab": {
          "base_uri": "https://localhost:8080/"
        },
        "id": "YxSfmeixfd0K",
        "outputId": "3e53b240-006a-4152-b08f-9471c98911e2"
      },
      "execution_count": null,
      "outputs": [
        {
          "output_type": "stream",
          "name": "stdout",
          "text": [
            "Ingrese una palabra (escriba exit para salir): Sedimento\n",
            "lista actualizada ['Sedimento']\n",
            "Ingrese una palabra (escriba exit para salir): Agua\n",
            "lista actualizada ['Sedimento', 'Agua']\n",
            "Ingrese una palabra (escriba exit para salir): Palizada\n",
            "lista actualizada ['Sedimento', 'Agua', 'Palizada']\n",
            "Ingrese una palabra (escriba exit para salir): exit\n",
            "['SEDIMENTO', 'PALIZADA']\n"
          ]
        }
      ]
    },
    {
      "cell_type": "code",
      "source": [
        "word_list = []\n",
        "\n",
        "while True:\n",
        "  word = input(\"Ingrese una palabra (escriba exit para salir): \")\n",
        "  if word == \"exit\":\n",
        "    break\n",
        "  else:\n",
        "    word_list.append(word)\n",
        "    print(\"lista actualizada\", word_list)\n",
        "\n",
        "word_mayusculaa = [word.upper() for word in word_list if len([x for x in word if x == x.upper()]) > 4]\n",
        "print(word_mayusculaa)"
      ],
      "metadata": {
        "colab": {
          "base_uri": "https://localhost:8080/"
        },
        "id": "GICCn1jGg_tW",
        "outputId": "eab2afa6-e30e-4fd3-eb3d-8dff97e8e3e6"
      },
      "execution_count": null,
      "outputs": [
        {
          "output_type": "stream",
          "name": "stdout",
          "text": [
            "Ingrese una palabra (escriba exit para salir): jhon\n",
            "lista actualizada ['jhon']\n",
            "Ingrese una palabra (escriba exit para salir): JHON\n",
            "lista actualizada ['jhon', 'JHON']\n",
            "Ingrese una palabra (escriba exit para salir): MIA\n",
            "lista actualizada ['jhon', 'JHON', 'MIA']\n",
            "Ingrese una palabra (escriba exit para salir): DIEGO\n",
            "lista actualizada ['jhon', 'JHON', 'MIA', 'DIEGO']\n",
            "Ingrese una palabra (escriba exit para salir): edgar\n",
            "lista actualizada ['jhon', 'JHON', 'MIA', 'DIEGO', 'edgar']\n",
            "Ingrese una palabra (escriba exit para salir): exit\n",
            "['DIEGO']\n"
          ]
        }
      ]
    },
    {
      "cell_type": "code",
      "source": [
        "def greatings():\n",
        "  print('Bienvenido al Curso!')  # Esta funcion saluda a los estudiantes\n",
        "\n",
        "greatings()"
      ],
      "metadata": {
        "colab": {
          "base_uri": "https://localhost:8080/"
        },
        "id": "uQvKUwSpjBJR",
        "outputId": "062baea2-3518-4f00-e81c-4a2bd3f640dc"
      },
      "execution_count": null,
      "outputs": [
        {
          "output_type": "stream",
          "name": "stdout",
          "text": [
            "Bienvenido al Curso!\n"
          ]
        }
      ]
    },
    {
      "cell_type": "code",
      "source": [
        "def greatings(name): # va esperar que le ponga un nombre o name.\n",
        "  print(f'Bienvenido al Curso {name}!')  # Esta funcion saluda a los estudiantes\n",
        "\n",
        "greatings('Luis')"
      ],
      "metadata": {
        "colab": {
          "base_uri": "https://localhost:8080/"
        },
        "id": "pp0dJwSVjxKc",
        "outputId": "37d7c4ff-e845-467d-b2c3-5f45d0be7708"
      },
      "execution_count": null,
      "outputs": [
        {
          "output_type": "stream",
          "name": "stdout",
          "text": [
            "Bienvenido al Curso Luis!\n"
          ]
        }
      ]
    },
    {
      "cell_type": "markdown",
      "source": [
        "Una funcion nos ayudara a contener un conjuto de codigo."
      ],
      "metadata": {
        "id": "qC8WxE3GjlKw"
      }
    },
    {
      "cell_type": "code",
      "source": [
        "def suma(a, b):\n",
        "  print(f'la suma es: {a + b}')\n",
        "\n",
        "suma(2, 3)"
      ],
      "metadata": {
        "colab": {
          "base_uri": "https://localhost:8080/"
        },
        "id": "XbcVYfb7kXMD",
        "outputId": "f332327c-2a39-4f49-c740-010d18bc2911"
      },
      "execution_count": null,
      "outputs": [
        {
          "output_type": "stream",
          "name": "stdout",
          "text": [
            "la suma es: 5\n"
          ]
        }
      ]
    },
    {
      "cell_type": "code",
      "source": [
        "suma(5, 7)"
      ],
      "metadata": {
        "colab": {
          "base_uri": "https://localhost:8080/"
        },
        "id": "pg434Q5Nkmhf",
        "outputId": "55626f31-563b-4a3b-d603-e68eb995d914"
      },
      "execution_count": null,
      "outputs": [
        {
          "output_type": "stream",
          "name": "stdout",
          "text": [
            "la suma es: 12\n"
          ]
        }
      ]
    },
    {
      "cell_type": "markdown",
      "source": [
        "## <b>3. Trabajando con Slicing</b>\n"
      ],
      "metadata": {
        "id": "8Pw1lVQAk_1c"
      }
    },
    {
      "cell_type": "markdown",
      "source": [
        "El slicing es una técnica que te permite extraer sublistas de listas existentes, seleccionando elementos de una lista mediante índices."
      ],
      "metadata": {
        "id": "E4pOl2C8lKzF"
      }
    },
    {
      "cell_type": "markdown",
      "source": [
        "### Ejemplo 3.1: Slicing de listas\n"
      ],
      "metadata": {
        "id": "NhyOyyLtnaLV"
      }
    },
    {
      "cell_type": "code",
      "source": [
        "# Crear una lista de letras\n",
        "letras = ['a', 'b', 'c', 'd', 'e', 'f', 'g', 'h']\n",
        "\n"
      ],
      "metadata": {
        "id": "YZkf5aLHmhde"
      },
      "execution_count": null,
      "outputs": []
    },
    {
      "cell_type": "code",
      "source": [
        "# Extraer una subsección de la lista\n",
        "primeras_tres = letras[:3]  # Primeros 3 elementos\n",
        "print(primeras_tres)"
      ],
      "metadata": {
        "id": "qi5sJLuUmR0m"
      },
      "execution_count": null,
      "outputs": []
    },
    {
      "cell_type": "code",
      "source": [
        "desde_el_cuarto = letras[3:]  # Desde el cuarto hasta el final\n",
        "print(desde_el_cuarto)\n"
      ],
      "metadata": {
        "id": "8T_pNL9gmoT8"
      },
      "execution_count": null,
      "outputs": []
    },
    {
      "cell_type": "code",
      "source": [
        "ultimos_dos = letras[-2:]  # Los últimos dos elementos\n",
        "print(ultimos_dos)\n"
      ],
      "metadata": {
        "id": "hSQ9bC3Vmy96"
      },
      "execution_count": null,
      "outputs": []
    },
    {
      "cell_type": "markdown",
      "source": [
        "### Ejemplo 3.2: Slicing con pasos\n"
      ],
      "metadata": {
        "id": "QJzj1X6undzm"
      }
    },
    {
      "cell_type": "code",
      "source": [
        "# Crear una lista de números del 1 al 10\n",
        "numeros = list(range(1, 11))\n"
      ],
      "metadata": {
        "id": "9u0Sho8vno-g"
      },
      "execution_count": null,
      "outputs": []
    },
    {
      "cell_type": "code",
      "source": [
        "\n",
        "# Obtener todos los números en posiciones pares\n",
        "pares = numeros[1::2]  # Inicia en el segundo elemento y salta de 2 en 2\n",
        "print(pares)\n",
        "\n",
        "\n"
      ],
      "metadata": {
        "id": "EADKhXulntOP"
      },
      "execution_count": null,
      "outputs": []
    },
    {
      "cell_type": "code",
      "source": [
        "# Obtener cada tercer número\n",
        "tercios = numeros[::3]\n",
        "print(tercios)"
      ],
      "metadata": {
        "id": "lRCCtFKBnweq"
      },
      "execution_count": null,
      "outputs": []
    },
    {
      "cell_type": "markdown",
      "source": [
        "### Ejercicio 3: Aplicaciones de slicing\n",
        "\n",
        "Crea una lista con los números del 1 al 100. Luego, usando slicing:\n",
        "- Extrae los primeros 10 números.\n",
        "- Extrae los últimos 10 números.\n",
        "- Extrae todos los números en posiciones impares.\n",
        "- Usa slicing para dividir una lista de palabras en dos mitades."
      ],
      "metadata": {
        "id": "vp3MgC__lQyw"
      }
    },
    {
      "cell_type": "code",
      "source": [],
      "metadata": {
        "id": "8wxUXYwOlYNE"
      },
      "execution_count": null,
      "outputs": []
    },
    {
      "cell_type": "markdown",
      "source": [
        "## <b>4. Trabajando con Tuplas\n",
        "</b>"
      ],
      "metadata": {
        "id": "m2oeaICsrlMr"
      }
    },
    {
      "cell_type": "markdown",
      "source": [
        "Las tuplas son como listas, pero inmutables, lo que significa que no se pueden modificar después de su creación. Son útiles para almacenar datos que no deben cambiar."
      ],
      "metadata": {
        "id": "-m-yjEGmrpxH"
      }
    },
    {
      "cell_type": "markdown",
      "source": [
        "### Ejemplo 4.1: Crear y acceder a tuplas\n"
      ],
      "metadata": {
        "id": "iN8wV0F0rsJK"
      }
    },
    {
      "cell_type": "code",
      "source": [
        "# Crear una tupla\n",
        "coordenadas = (10.5, 20.3)\n",
        "\n",
        "# Acceder a los elementos de la tupla\n",
        "print(\"X:\", coordenadas[0])\n",
        "print(\"Y:\", coordenadas[1])\n"
      ],
      "metadata": {
        "id": "cBiHFdW_rqqi"
      },
      "execution_count": null,
      "outputs": []
    },
    {
      "cell_type": "markdown",
      "source": [
        "### Ejemplo 4.2: Intento de modificación de una tupla\n"
      ],
      "metadata": {
        "id": "YIMqOp-erw_K"
      }
    },
    {
      "cell_type": "code",
      "source": [
        "# Crear una tupla\n",
        "dimensiones = (200, 50)\n"
      ],
      "metadata": {
        "id": "4SMEGO6ZrzJj"
      },
      "execution_count": null,
      "outputs": []
    },
    {
      "cell_type": "code",
      "source": [
        "# Intentar modificar la tupla (esto generará un error)\n",
        "# dimensiones[0] = 250  # Descomenta esta línea para ver el error\n"
      ],
      "metadata": {
        "id": "0Zd9AM9Cr2ZN"
      },
      "execution_count": null,
      "outputs": []
    },
    {
      "cell_type": "code",
      "source": [
        "# Reasignar una nueva tupla\n",
        "dimensiones = (400, 100)\n",
        "print(\"Nuevas dimensiones:\", dimensiones)"
      ],
      "metadata": {
        "id": "lIv2eQcmr3aL"
      },
      "execution_count": null,
      "outputs": []
    },
    {
      "cell_type": "markdown",
      "source": [
        "### Ejercicio 4: Trabajando con tuplas\n",
        "- Crea una tupla que almacene las dimensiones de un objeto (ancho, alto).\n",
        "- Intenta modificar un elemento de la tupla y observa el error que genera.\n",
        "- Reescribe la tupla completa con nuevas dimensiones.\n"
      ],
      "metadata": {
        "id": "juG-GKwwr7hC"
      }
    },
    {
      "cell_type": "code",
      "source": [],
      "metadata": {
        "id": "flPWwLBRr-87"
      },
      "execution_count": null,
      "outputs": []
    },
    {
      "cell_type": "markdown",
      "source": [
        "## <b>5. Desafío</b>"
      ],
      "metadata": {
        "id": "K8ioDMpJl8zI"
      }
    },
    {
      "cell_type": "markdown",
      "source": [
        "### Desafío 1: Análisis de ventas de una tienda de ropa\n",
        "\n",
        "Eres el encargado de una tienda de ropa y tienes una lista de ventas diarias para diferentes productos. Cada día, vendes camisetas, pantalones y zapatos. Quieres analizar las ventas para entender mejor el rendimiento de cada producto.\n",
        "\n",
        "<b>Objetivo:</b>\n",
        "\n",
        "- Crea tres listas: una para camisetas, otra para pantalones y una para zapatos, con la cantidad vendida cada día durante una semana.\n",
        "- Usa slicing para extraer las ventas de los últimos 3 días de cada producto.\n",
        "- Usa listas por comprensión para calcular el total de ventas de cada producto y el promedio de ventas diarias.\n",
        "\n",
        "- Clasifica los productos en \"buenas ventas\" o \"malas ventas\" según si el promedio de ventas diarias es mayor o menor a 5.\n",
        "\n",
        "Instrucciones:\n",
        "- Genera los datos de ventas usando listas manualmente o simulándolos con valores constantes.\n",
        "- Calcula el total de ventas por producto usando sum() y el promedio con len().\n",
        "- Usa listas por comprensión para clasificar las ventas de los productos."
      ],
      "metadata": {
        "id": "mQkPuK6ymKTk"
      }
    },
    {
      "cell_type": "code",
      "source": [],
      "metadata": {
        "id": "43HiaKjEmmPg"
      },
      "execution_count": null,
      "outputs": []
    },
    {
      "cell_type": "markdown",
      "source": [
        "---\n",
        "\n",
        "# Gracias por completar este laboratorio!\n",
        "\n",
        "---"
      ],
      "metadata": {
        "id": "_G9dWzTgp6-m"
      }
    }
  ]
}