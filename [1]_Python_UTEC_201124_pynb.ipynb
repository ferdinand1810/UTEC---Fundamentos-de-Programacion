{
  "nbformat": 4,
  "nbformat_minor": 0,
  "metadata": {
    "colab": {
      "provenance": [],
      "toc_visible": true,
      "authorship_tag": "ABX9TyPTpYnq2wDhU4FMERCvPfY9",
      "include_colab_link": true
    },
    "kernelspec": {
      "name": "python3",
      "display_name": "Python 3"
    },
    "language_info": {
      "name": "python"
    }
  },
  "cells": [
    {
      "cell_type": "markdown",
      "metadata": {
        "id": "view-in-github",
        "colab_type": "text"
      },
      "source": [
        "<a href=\"https://colab.research.google.com/github/ferdinand1810/UTEC---Fundamentos-de-Programacion/blob/main/%5B1%5D_Python_UTEC_201124_pynb.ipynb\" target=\"_parent\"><img src=\"https://colab.research.google.com/assets/colab-badge.svg\" alt=\"Open In Colab\"/></a>"
      ]
    },
    {
      "cell_type": "markdown",
      "source": [
        "Listas"
      ],
      "metadata": {
        "id": "IEt8foZgMKph"
      }
    },
    {
      "cell_type": "markdown",
      "source": [
        "Tipos de Listas"
      ],
      "metadata": {
        "id": "vOyOjJ7EMTpV"
      }
    },
    {
      "cell_type": "markdown",
      "source": [
        "Crear y identificar listas"
      ],
      "metadata": {
        "id": "7JRO4CFDOMPH"
      }
    },
    {
      "cell_type": "code",
      "execution_count": 1,
      "metadata": {
        "id": "GYjEmmblMJub"
      },
      "outputs": [],
      "source": [
        "# Lista homogeneas\n",
        "\n",
        "numeros = [1, 2, 3, 4]"
      ]
    },
    {
      "cell_type": "code",
      "source": [
        "letras = [\"a\", \"b\", \"c\", \"d\", \"e\", \"f\"]"
      ],
      "metadata": {
        "id": "ieP-D8raMvuR"
      },
      "execution_count": 2,
      "outputs": []
    },
    {
      "cell_type": "code",
      "source": [
        "print(f\"El objeto {numeros} es de tipo {type(numeros)}\")"
      ],
      "metadata": {
        "colab": {
          "base_uri": "https://localhost:8080/"
        },
        "id": "tUGYPhFlM108",
        "outputId": "956c78d3-9eb7-44fd-fc23-68886aabc0aa"
      },
      "execution_count": 6,
      "outputs": [
        {
          "output_type": "stream",
          "name": "stdout",
          "text": [
            "El objeto [1, 2, 3, 4] es de tipo <class 'list'>\n"
          ]
        }
      ]
    },
    {
      "cell_type": "code",
      "source": [
        "print(f\"El objeto {letras} es de tipo {type(letras)}\")"
      ],
      "metadata": {
        "colab": {
          "base_uri": "https://localhost:8080/"
        },
        "id": "qYFOm19yNRsH",
        "outputId": "83f4be7b-a0ee-4c57-9c4a-06b414b96ed7"
      },
      "execution_count": 7,
      "outputs": [
        {
          "output_type": "stream",
          "name": "stdout",
          "text": [
            "El objeto ['a', 'b', 'c', 'd', 'e', 'f'] es de tipo <class 'list'>\n"
          ]
        }
      ]
    },
    {
      "cell_type": "code",
      "source": [
        "# Lista heterogeneas\n",
        "\n",
        "datos = [2, \"Jorge\", -15.5, \"UTEC\", True]"
      ],
      "metadata": {
        "id": "1DbhXcWINdBU"
      },
      "execution_count": 8,
      "outputs": []
    },
    {
      "cell_type": "code",
      "source": [
        "print(f\"El objeto {datos} es de tipo {type(datos)}\")"
      ],
      "metadata": {
        "colab": {
          "base_uri": "https://localhost:8080/"
        },
        "id": "tSKuBELDOAF7",
        "outputId": "65abeb17-aaa9-4dc0-8df8-8fcb64314a11"
      },
      "execution_count": 9,
      "outputs": [
        {
          "output_type": "stream",
          "name": "stdout",
          "text": [
            "El objeto [2, 'Jorge', -15.5, 'UTEC', True] es de tipo <class 'list'>\n"
          ]
        }
      ]
    },
    {
      "cell_type": "code",
      "source": [
        "%whos"
      ],
      "metadata": {
        "colab": {
          "base_uri": "https://localhost:8080/"
        },
        "id": "oFel0jxFOQ4f",
        "outputId": "8f999dd8-cde1-4ddc-843b-35aebe0ae61e"
      },
      "execution_count": 10,
      "outputs": [
        {
          "output_type": "stream",
          "name": "stdout",
          "text": [
            "Variable   Type    Data/Info\n",
            "----------------------------\n",
            "datos      list    n=5\n",
            "letras     list    n=6\n",
            "numeros    list    n=4\n"
          ]
        }
      ]
    },
    {
      "cell_type": "markdown",
      "source": [
        "# Acceder a los elementos de la Lista"
      ],
      "metadata": {
        "id": "iIwv0kDSOmFi"
      }
    },
    {
      "cell_type": "code",
      "source": [
        "print(f\"la lista {datos}\")"
      ],
      "metadata": {
        "colab": {
          "base_uri": "https://localhost:8080/"
        },
        "id": "IEhcsil2Ost5",
        "outputId": "0dc44beb-0c7a-42ef-f1d4-6fd29bccc508"
      },
      "execution_count": 11,
      "outputs": [
        {
          "output_type": "stream",
          "name": "stdout",
          "text": [
            "la lista [2, 'Jorge', -15.5, 'UTEC', True]\n"
          ]
        }
      ]
    },
    {
      "cell_type": "code",
      "source": [
        "print(f\"El elemnto ubicado en el indice 3 de la lista {datos[3]}: \")"
      ],
      "metadata": {
        "colab": {
          "base_uri": "https://localhost:8080/"
        },
        "id": "VQmKEl5HPjrA",
        "outputId": "785e538d-2e78-4f6a-d261-31616001d850"
      },
      "execution_count": 13,
      "outputs": [
        {
          "output_type": "stream",
          "name": "stdout",
          "text": [
            "El elemnto ubicado en el indice 3 de la lista UTEC: \n"
          ]
        }
      ]
    },
    {
      "cell_type": "code",
      "source": [],
      "metadata": {
        "id": "_FRkBhieQNLi"
      },
      "execution_count": null,
      "outputs": []
    },
    {
      "cell_type": "code",
      "source": [
        "print(f\"El elemnto ubicado en el indice 4 de la lista {datos[4]}: \")"
      ],
      "metadata": {
        "colab": {
          "base_uri": "https://localhost:8080/"
        },
        "outputId": "efbcdc36-0844-44aa-8cb2-22024fe1239c",
        "id": "FPuWThkuQQkQ"
      },
      "execution_count": 16,
      "outputs": [
        {
          "output_type": "stream",
          "name": "stdout",
          "text": [
            "El elemnto ubicado en el indice 4 de la lista True: \n"
          ]
        }
      ]
    },
    {
      "cell_type": "code",
      "source": [
        "print(f\"El elemnto ubicado en el indice 4 de la lista es {datos[-1]}: \")"
      ],
      "metadata": {
        "colab": {
          "base_uri": "https://localhost:8080/"
        },
        "id": "tDlX9rqkQgHg",
        "outputId": "18e1673e-fd92-4c11-ce36-4fa0757031ca"
      },
      "execution_count": 19,
      "outputs": [
        {
          "output_type": "stream",
          "name": "stdout",
          "text": [
            "El elemnto ubicado en el indice 4 de la lista es True: \n"
          ]
        }
      ]
    },
    {
      "cell_type": "code",
      "source": [
        "print(f\"El ultimo elemento de la lista es {datos[-1]}: \")"
      ],
      "metadata": {
        "colab": {
          "base_uri": "https://localhost:8080/"
        },
        "id": "W6NGxxq_Qtjw",
        "outputId": "10755510-be93-483e-9da1-14eb6f39dd8c"
      },
      "execution_count": 20,
      "outputs": [
        {
          "output_type": "stream",
          "name": "stdout",
          "text": [
            "El ultimo elemento de la lista es True: \n"
          ]
        }
      ]
    },
    {
      "cell_type": "code",
      "source": [
        "print(f\"Los primero elementos de la lista son: {datos[0:3]}\")"
      ],
      "metadata": {
        "colab": {
          "base_uri": "https://localhost:8080/"
        },
        "id": "YpJ2bg3-RrCD",
        "outputId": "09a8d1b3-3cf4-40c4-ab21-c5fd228b1766"
      },
      "execution_count": 21,
      "outputs": [
        {
          "output_type": "stream",
          "name": "stdout",
          "text": [
            "Los primero elementos de la lista son: [2, 'Jorge', -15.5]\n"
          ]
        }
      ]
    },
    {
      "cell_type": "code",
      "source": [
        "#cuando inicia en 0 no es necesario escribirlo:\n",
        "\n",
        "print(f\"Los primero elementos de la lista son: {datos[:3]}\")"
      ],
      "metadata": {
        "colab": {
          "base_uri": "https://localhost:8080/"
        },
        "id": "K1DkKf-ER_XC",
        "outputId": "f321afe6-b15a-4a1f-b502-7664de15fbf7"
      },
      "execution_count": 22,
      "outputs": [
        {
          "output_type": "stream",
          "name": "stdout",
          "text": [
            "Los primero elementos de la lista son: [2, 'Jorge', -15.5]\n"
          ]
        }
      ]
    },
    {
      "cell_type": "code",
      "source": [
        "#Mostrar todos los elementos de la lista letras\n",
        "print(f\"Los elementos de toda la lista son:\\n {letras[:]}\")\n",
        "#Mostrar el cuarto, quinto y sexto elemento de la lista\n",
        "print(f\"El cuarto, quinto y sexto elemento de la lista son: {letras[3:]}\")\n"
      ],
      "metadata": {
        "colab": {
          "base_uri": "https://localhost:8080/"
        },
        "id": "D80tZiMKSM8s",
        "outputId": "62d4c1f6-851b-47e2-843d-38dc3bbf3a28"
      },
      "execution_count": 29,
      "outputs": [
        {
          "output_type": "stream",
          "name": "stdout",
          "text": [
            "Los elementos de toda la lista son:\n",
            " ['a', 'b', 'c', 'd', 'e', 'f']\n",
            "El cuarto, quinto y sexto elemento de la lista son: ['d', 'e', 'f']\n"
          ]
        }
      ]
    },
    {
      "cell_type": "code",
      "source": [
        "print(f\"Los elementos de toda la lista son:\\n {letras[2:4]}\")"
      ],
      "metadata": {
        "colab": {
          "base_uri": "https://localhost:8080/"
        },
        "id": "KEv0_pppWspH",
        "outputId": "115d2e79-3f53-495b-d0b5-57472920adf1"
      },
      "execution_count": 30,
      "outputs": [
        {
          "output_type": "stream",
          "name": "stdout",
          "text": [
            "Los elementos de toda la lista son:\n",
            " ['c', 'd']\n"
          ]
        }
      ]
    },
    {
      "cell_type": "markdown",
      "source": [
        "# Insertar Elementos en una Lista"
      ],
      "metadata": {
        "id": "OAJAzR8oW-q6"
      }
    },
    {
      "cell_type": "code",
      "source": [
        "pares = [0,2,4,6,8,10] #lista homogenea"
      ],
      "metadata": {
        "id": "f-6hk-jkXGHj"
      },
      "execution_count": 31,
      "outputs": []
    },
    {
      "cell_type": "code",
      "source": [
        "type(pares)"
      ],
      "metadata": {
        "colab": {
          "base_uri": "https://localhost:8080/"
        },
        "id": "RQ5MzMGPXSFw",
        "outputId": "fbc59dc5-fac6-4083-a215-93dff15fa199"
      },
      "execution_count": 32,
      "outputs": [
        {
          "output_type": "execute_result",
          "data": {
            "text/plain": [
              "list"
            ]
          },
          "metadata": {},
          "execution_count": 32
        }
      ]
    },
    {
      "cell_type": "code",
      "source": [
        "#Inserta un elemento al final de la lista\n",
        "\n",
        "pares.append(12)"
      ],
      "metadata": {
        "id": "O4YwXY2UXU7q"
      },
      "execution_count": 36,
      "outputs": []
    },
    {
      "cell_type": "code",
      "source": [
        "print(f\"la lista actualizada es:\\n {pares}\")"
      ],
      "metadata": {
        "colab": {
          "base_uri": "https://localhost:8080/"
        },
        "id": "9p9yyYD5Xdop",
        "outputId": "939ddddc-ab37-476a-8389-499c93837ab4"
      },
      "execution_count": 37,
      "outputs": [
        {
          "output_type": "stream",
          "name": "stdout",
          "text": [
            "la lista actualizada es:\n",
            " [0, 2, 4, 6, 8, 10, 12, 12]\n"
          ]
        }
      ]
    },
    {
      "cell_type": "markdown",
      "source": [
        "#pares.insert(1,100)\n",
        "# 1 --> argumento 1 = posicion (indice) en la que se va insertar el elemento.\n",
        "# 100 --> argumento 1 = elemento a insertar0."
      ],
      "metadata": {
        "id": "1YuFDbnhY57j"
      }
    },
    {
      "cell_type": "code",
      "source": [
        "pares.insert(1,100) #insertar elemento en un determinado indice"
      ],
      "metadata": {
        "id": "UJu5GznaYcZz"
      },
      "execution_count": 38,
      "outputs": []
    },
    {
      "cell_type": "code",
      "source": [
        "print(f\"la lista actualizada es:\\n {pares}\")"
      ],
      "metadata": {
        "colab": {
          "base_uri": "https://localhost:8080/"
        },
        "id": "6AUzJj7NZPcm",
        "outputId": "bd5c0b34-996e-4ca4-b4f0-d50ee83c345f"
      },
      "execution_count": 39,
      "outputs": [
        {
          "output_type": "stream",
          "name": "stdout",
          "text": [
            "la lista actualizada es:\n",
            " [0, 100, 2, 4, 6, 8, 10, 12, 12]\n"
          ]
        }
      ]
    },
    {
      "cell_type": "code",
      "source": [
        "print(f\"La lista letras tiene los siguientes elementos \\n{letras}\")"
      ],
      "metadata": {
        "colab": {
          "base_uri": "https://localhost:8080/"
        },
        "id": "AZmXI17-ZyQl",
        "outputId": "af834f8c-ed9b-4a48-f182-39799c45dc5f"
      },
      "execution_count": 40,
      "outputs": [
        {
          "output_type": "stream",
          "name": "stdout",
          "text": [
            "La lista letras tiene los siguientes elementos \n",
            "['a', 'b', 'c', 'd', 'e', 'f']\n"
          ]
        }
      ]
    },
    {
      "cell_type": "code",
      "source": [
        "letras.insert(-1,\"AAA\")"
      ],
      "metadata": {
        "id": "d0eUNsx8Z0Fy"
      },
      "execution_count": 42,
      "outputs": []
    },
    {
      "cell_type": "code",
      "source": [
        "print(f\"la lista actualizada es:\\n {letras}\")"
      ],
      "metadata": {
        "colab": {
          "base_uri": "https://localhost:8080/"
        },
        "id": "jGG_XBPharni",
        "outputId": "de535316-33c2-4414-a092-b889f89fad48"
      },
      "execution_count": 43,
      "outputs": [
        {
          "output_type": "stream",
          "name": "stdout",
          "text": [
            "la lista actualizada es:\n",
            " ['a', 'b', 'c', 'd', 'e', 'AAA', 'f']\n"
          ]
        }
      ]
    },
    {
      "cell_type": "code",
      "source": [
        "letras.insert(9,\"X\")\n",
        "print(f\"la lista actualizada es:\\n {letras}\")"
      ],
      "metadata": {
        "colab": {
          "base_uri": "https://localhost:8080/"
        },
        "id": "qarPG7jla8bN",
        "outputId": "e3d16fdb-4ae4-46fd-f2fb-39233855bdef"
      },
      "execution_count": 44,
      "outputs": [
        {
          "output_type": "stream",
          "name": "stdout",
          "text": [
            "la lista actualizada es:\n",
            " ['a', 'b', 'c', 'd', 'e', 'AAA', 'f', 'X']\n"
          ]
        }
      ]
    },
    {
      "cell_type": "code",
      "source": [
        "letras[7]"
      ],
      "metadata": {
        "colab": {
          "base_uri": "https://localhost:8080/",
          "height": 35
        },
        "id": "RYTCDxW3b8LF",
        "outputId": "9e459eb9-b8c0-4cab-f7b4-c09be1f77b3e"
      },
      "execution_count": 45,
      "outputs": [
        {
          "output_type": "execute_result",
          "data": {
            "text/plain": [
              "'X'"
            ],
            "application/vnd.google.colaboratory.intrinsic+json": {
              "type": "string"
            }
          },
          "metadata": {},
          "execution_count": 45
        }
      ]
    },
    {
      "cell_type": "markdown",
      "source": [
        "# Las listas son mutables"
      ],
      "metadata": {
        "id": "qb4C3BH0fosO"
      }
    },
    {
      "cell_type": "code",
      "source": [
        "print(f\"Los elementos de la lista letras son \\n{letras[:]}\")"
      ],
      "metadata": {
        "colab": {
          "base_uri": "https://localhost:8080/"
        },
        "id": "RxwamfDlfwGH",
        "outputId": "a5a7a030-bd08-4bf2-c310-682151aaa3bd"
      },
      "execution_count": 46,
      "outputs": [
        {
          "output_type": "stream",
          "name": "stdout",
          "text": [
            "Los elementos de la lista letras son \n",
            "['a', 'b', 'c', 'd', 'e', 'AAA', 'f', 'X']\n"
          ]
        }
      ]
    },
    {
      "cell_type": "code",
      "source": [
        "#Acceder a los primeros tres elementos\n",
        "print(f\"Los primeros tres elementos de la lista letras son: \\n{letras[:3]}\")"
      ],
      "metadata": {
        "colab": {
          "base_uri": "https://localhost:8080/"
        },
        "id": "7olGgT5Lf3v3",
        "outputId": "a6c300a4-8b98-4143-8b0f-c47ebc20788c"
      },
      "execution_count": 49,
      "outputs": [
        {
          "output_type": "stream",
          "name": "stdout",
          "text": [
            "Los primeros tres elementos de la lista letras son: \n",
            "['a', 'b', 'c']\n"
          ]
        }
      ]
    },
    {
      "cell_type": "code",
      "source": [
        "letras[:3] = [\"A\",\"B\",\"C\"] #Cambia los tres primeros elememtos por A, B, y C.\n",
        "print(f\"La lista actualizada es: \\n{letras}\")"
      ],
      "metadata": {
        "colab": {
          "base_uri": "https://localhost:8080/"
        },
        "id": "L1gAWQ9Yg5Xa",
        "outputId": "5a45adfe-70ba-4f42-ad4b-f8beb33c9a6f"
      },
      "execution_count": 50,
      "outputs": [
        {
          "output_type": "stream",
          "name": "stdout",
          "text": [
            "La lista actualizada es: \n",
            "['A', 'B', 'C', 'd', 'e', 'AAA', 'f', 'X']\n"
          ]
        }
      ]
    },
    {
      "cell_type": "code",
      "source": [
        "letras[:3] = [] #Elimina los tres primeros elementos\n",
        "print(f\"La lista actualizada es: \\n{letras}\")"
      ],
      "metadata": {
        "colab": {
          "base_uri": "https://localhost:8080/"
        },
        "id": "dogdoXpthgNq",
        "outputId": "0e351dc4-b06d-4962-88c1-88a2458e23e7"
      },
      "execution_count": 51,
      "outputs": [
        {
          "output_type": "stream",
          "name": "stdout",
          "text": [
            "La lista actualizada es: \n",
            "['d', 'e', 'AAA', 'f', 'X']\n"
          ]
        }
      ]
    },
    {
      "cell_type": "markdown",
      "source": [
        "# Eliminar elementos de una Lista"
      ],
      "metadata": {
        "id": "E_cC-U4rh59q"
      }
    },
    {
      "cell_type": "code",
      "source": [
        "print(f\"La lista actualizada es: \\n{letras}\")"
      ],
      "metadata": {
        "colab": {
          "base_uri": "https://localhost:8080/"
        },
        "id": "bCTvjxCth-1A",
        "outputId": "f2e91bfa-b0f6-4a75-e0d8-85b1c5cd5190"
      },
      "execution_count": 52,
      "outputs": [
        {
          "output_type": "stream",
          "name": "stdout",
          "text": [
            "La lista actualizada es: \n",
            "['d', 'e', 'AAA', 'f', 'X']\n"
          ]
        }
      ]
    },
    {
      "cell_type": "code",
      "source": [
        "print(f\"La lista inicial es: \\n{letras}\")\n",
        "#Elimina el elemento ubicado en el indice 2 (indice del elemento a eliminar)\n",
        "elemento = letras.pop(2) #Almacenar el objeto llamado elemento.\n",
        "print(f\"La lista actualizada es: \\n{letras}\")\n",
        "print(f\"El elemento eliminado de la lista es: \\n{elemento}\")"
      ],
      "metadata": {
        "colab": {
          "base_uri": "https://localhost:8080/"
        },
        "id": "3HmVdVnsiFxB",
        "outputId": "fee5f7a6-c1bf-4b3c-d122-9332e0f100ad"
      },
      "execution_count": 54,
      "outputs": [
        {
          "output_type": "stream",
          "name": "stdout",
          "text": [
            "La lista inicial es: \n",
            "['d', 'e', 'X']\n",
            "La lista actualizada es: \n",
            "['d', 'e']\n",
            "El elemento eliminado de la lista es: \n",
            "X\n"
          ]
        }
      ]
    },
    {
      "cell_type": "code",
      "source": [
        "print(f\"La lista inicial es: \\n{pares}\")\n",
        "pares.remove(100) #Elimina el elemento 100 de la lista\n",
        "print(f\"La lista actualizada es: \\n{pares}\")"
      ],
      "metadata": {
        "colab": {
          "base_uri": "https://localhost:8080/"
        },
        "id": "mqAJJ9hpjbPP",
        "outputId": "d70c55ca-dd6b-4433-b2d7-5169fb40deea"
      },
      "execution_count": 56,
      "outputs": [
        {
          "output_type": "stream",
          "name": "stdout",
          "text": [
            "La lista inicial es: \n",
            "[0, 100, 2, 4, 6, 8, 10, 12, 12]\n",
            "La lista actualizada es: \n",
            "[0, 2, 4, 6, 8, 10, 12, 12]\n"
          ]
        }
      ]
    },
    {
      "cell_type": "code",
      "source": [
        "pares.append(12)\n",
        "print(f\"La lista actualizada es: \\n{pares}\")"
      ],
      "metadata": {
        "colab": {
          "base_uri": "https://localhost:8080/"
        },
        "id": "m3U0ajgMkI8L",
        "outputId": "ecede4be-f942-40d4-c3c7-75ef31ab6b5c"
      },
      "execution_count": 57,
      "outputs": [
        {
          "output_type": "stream",
          "name": "stdout",
          "text": [
            "La lista actualizada es: \n",
            "[0, 2, 4, 6, 8, 10, 12, 12, 12]\n"
          ]
        }
      ]
    },
    {
      "cell_type": "code",
      "source": [
        "pares.remove(12) #Elimina el elemento 100 de la lista\n",
        "print(f\"La lista actualizada es: \\n{pares}\")"
      ],
      "metadata": {
        "colab": {
          "base_uri": "https://localhost:8080/"
        },
        "id": "G-i7OIUGkPfM",
        "outputId": "86ecbf6b-8dfa-47b0-cdfe-02932f6cfb09"
      },
      "execution_count": 59,
      "outputs": [
        {
          "output_type": "stream",
          "name": "stdout",
          "text": [
            "La lista actualizada es: \n",
            "[0, 2, 4, 6, 8, 10, 12]\n"
          ]
        }
      ]
    },
    {
      "cell_type": "code",
      "source": [
        "print(f\"La lista inicial es: \\n{pares}\")\n",
        "del pares[4:] #Elimina el elemento ubicado en el indice 2 (indice del elemento a eliminar)\n",
        "print(f\"La lista actualizada es: \\n{pares}\")"
      ],
      "metadata": {
        "colab": {
          "base_uri": "https://localhost:8080/"
        },
        "id": "gEZesBIJk_S5",
        "outputId": "4183e5c5-98ed-4a32-cd1e-c006875aade0"
      },
      "execution_count": 61,
      "outputs": [
        {
          "output_type": "stream",
          "name": "stdout",
          "text": [
            "La lista inicial es: \n",
            "[0, 2, 4, 6, 8, 10, 12]\n",
            "La lista actualizada es: \n",
            "[0, 2, 4, 6]\n"
          ]
        }
      ]
    },
    {
      "cell_type": "code",
      "source": [
        "%whos"
      ],
      "metadata": {
        "colab": {
          "base_uri": "https://localhost:8080/"
        },
        "id": "QHRJqdCAlriw",
        "outputId": "8e991e3d-70c9-4800-b49c-726b2f67c977"
      },
      "execution_count": 62,
      "outputs": [
        {
          "output_type": "stream",
          "name": "stdout",
          "text": [
            "Variable   Type    Data/Info\n",
            "----------------------------\n",
            "datos      list    n=5\n",
            "elemento   str     X\n",
            "letras     list    n=2\n",
            "numeros    list    n=4\n",
            "pares      list    n=4\n"
          ]
        }
      ]
    },
    {
      "cell_type": "markdown",
      "source": [
        "## Ordenar los elementos de una Lista"
      ],
      "metadata": {
        "id": "1DIsZ1LHlxPz"
      }
    },
    {
      "cell_type": "code",
      "source": [
        "lista_0 = [10, 100, 1, 50, 23, 120, 1000, 3, 25]\n",
        "print(f\"La lista inicial es: \\n{lista_0}\")"
      ],
      "metadata": {
        "colab": {
          "base_uri": "https://localhost:8080/"
        },
        "id": "KZjNbMZ8l3jZ",
        "outputId": "07edadaf-7a43-425a-b674-0851f7ca1a6d"
      },
      "execution_count": 63,
      "outputs": [
        {
          "output_type": "stream",
          "name": "stdout",
          "text": [
            "La lista inicial es: \n",
            "[10, 100, 1, 50, 23, 120, 1000, 3, 25]\n"
          ]
        }
      ]
    },
    {
      "cell_type": "code",
      "source": [
        "print(f\"La Lista tiene los elementos \\n {lista_0}\")\n",
        "lista_0.sort() #Me permite ordenar de manera ascendentos los elementos\n",
        "print(f\"La lista ordenada tiene los elementos \\n{lista_0}\")\n"
      ],
      "metadata": {
        "colab": {
          "base_uri": "https://localhost:8080/"
        },
        "id": "FCgTwv13mJja",
        "outputId": "2cdac432-b4b3-4ed1-972c-76281ad86456"
      },
      "execution_count": 64,
      "outputs": [
        {
          "output_type": "stream",
          "name": "stdout",
          "text": [
            "La Lista tiene los elementos \n",
            " [10, 100, 1, 50, 23, 120, 1000, 3, 25]\n",
            "La lista ordenada tiene los elementos \n",
            "[1, 3, 10, 23, 25, 50, 100, 120, 1000]\n"
          ]
        }
      ]
    },
    {
      "cell_type": "code",
      "source": [
        "lista_0 = [10, 100, 1, 50, 23, 120, 1000, 3, 25]\n",
        "print(f\"La lista inicial es: \\n{lista_0}\")\n",
        "lista_0.sort(reverse=True) #Me permite ordenar de manera descendentes los elementos\n",
        "print(f\"La lista ordenada (descendente) tiene los elementos \\n{lista_0}\")"
      ],
      "metadata": {
        "colab": {
          "base_uri": "https://localhost:8080/"
        },
        "id": "LntBSflLmwT6",
        "outputId": "871e2cb5-23fa-4521-c9d7-60f0222aab6c"
      },
      "execution_count": 65,
      "outputs": [
        {
          "output_type": "stream",
          "name": "stdout",
          "text": [
            "La lista inicial es: \n",
            "[10, 100, 1, 50, 23, 120, 1000, 3, 25]\n",
            "La lista ordenada (descendente) tiene los elementos \n",
            "[1000, 120, 100, 50, 25, 23, 10, 3, 1]\n"
          ]
        }
      ]
    },
    {
      "cell_type": "code",
      "source": [
        "print(f\"El ultimo elemento de la lista es: {lista_0[-1]}\")"
      ],
      "metadata": {
        "colab": {
          "base_uri": "https://localhost:8080/"
        },
        "id": "YlLM6rFYnLIY",
        "outputId": "178c03bf-da35-4b8e-c132-053cfe299097"
      },
      "execution_count": 67,
      "outputs": [
        {
          "output_type": "stream",
          "name": "stdout",
          "text": [
            "El ultimo elemento de la lista es: 1\n"
          ]
        }
      ]
    },
    {
      "cell_type": "markdown",
      "source": [
        "## Buscar Elemento en una Lista"
      ],
      "metadata": {
        "id": "5UGQnBLVnj0G"
      }
    },
    {
      "cell_type": "code",
      "source": [
        "print(f\"Los elementos de la lista son \\n {lista_0}\")\n"
      ],
      "metadata": {
        "colab": {
          "base_uri": "https://localhost:8080/"
        },
        "id": "Qkyr8FACnn5n",
        "outputId": "57562594-d3e0-44de-a266-657995b8739b"
      },
      "execution_count": 68,
      "outputs": [
        {
          "output_type": "stream",
          "name": "stdout",
          "text": [
            "Los elementos de la lista son \n",
            " [1000, 120, 100, 50, 25, 23, 10, 3, 1]\n"
          ]
        }
      ]
    },
    {
      "cell_type": "code",
      "source": [
        "100 in lista_0 # arrojara un true si esta en la lista"
      ],
      "metadata": {
        "colab": {
          "base_uri": "https://localhost:8080/"
        },
        "id": "B6cFobtxnv6L",
        "outputId": "d29f287d-2218-41ed-82d0-e9cbb6ced837"
      },
      "execution_count": 69,
      "outputs": [
        {
          "output_type": "execute_result",
          "data": {
            "text/plain": [
              "True"
            ]
          },
          "metadata": {},
          "execution_count": 69
        }
      ]
    },
    {
      "cell_type": "code",
      "source": [
        "99 in lista_0"
      ],
      "metadata": {
        "colab": {
          "base_uri": "https://localhost:8080/"
        },
        "id": "pOLBXz-0n2Nj",
        "outputId": "9a5503f9-cfb8-43df-984a-b229b1e044e9"
      },
      "execution_count": 70,
      "outputs": [
        {
          "output_type": "execute_result",
          "data": {
            "text/plain": [
              "False"
            ]
          },
          "metadata": {},
          "execution_count": 70
        }
      ]
    },
    {
      "cell_type": "code",
      "source": [
        "lista_0.index(1000) #Toma el el nombre de la lista y dentro del index se encuentra el elemento.\n",
        "print(f\"El elemento 1000 esta en indice {lista_0.index(1000)}\")"
      ],
      "metadata": {
        "colab": {
          "base_uri": "https://localhost:8080/"
        },
        "id": "xZCcn2kIoBTr",
        "outputId": "6ae184db-74b4-48ea-c789-e599f3476eb0"
      },
      "execution_count": 73,
      "outputs": [
        {
          "output_type": "stream",
          "name": "stdout",
          "text": [
            "El elemento 1000 esta en indice 0\n"
          ]
        }
      ]
    },
    {
      "cell_type": "code",
      "source": [
        "lista_0.index(1000,0)"
      ],
      "metadata": {
        "colab": {
          "base_uri": "https://localhost:8080/"
        },
        "id": "4pSmFPXyo31v",
        "outputId": "bcbed7b8-eb91-424e-cb01-27143bc68310"
      },
      "execution_count": 74,
      "outputs": [
        {
          "output_type": "execute_result",
          "data": {
            "text/plain": [
              "0"
            ]
          },
          "metadata": {},
          "execution_count": 74
        }
      ]
    },
    {
      "cell_type": "code",
      "source": [
        "lista_0.index(1000,3)"
      ],
      "metadata": {
        "colab": {
          "base_uri": "https://localhost:8080/",
          "height": 144
        },
        "id": "N7j1B7VzpBHA",
        "outputId": "9ebf221d-38d0-466c-f57c-c528493e85c8"
      },
      "execution_count": 76,
      "outputs": [
        {
          "output_type": "error",
          "ename": "ValueError",
          "evalue": "1000 is not in list",
          "traceback": [
            "\u001b[0;31m---------------------------------------------------------------------------\u001b[0m",
            "\u001b[0;31mValueError\u001b[0m                                Traceback (most recent call last)",
            "\u001b[0;32m<ipython-input-76-b76545b00adb>\u001b[0m in \u001b[0;36m<cell line: 1>\u001b[0;34m()\u001b[0m\n\u001b[0;32m----> 1\u001b[0;31m \u001b[0mlista_0\u001b[0m\u001b[0;34m.\u001b[0m\u001b[0mindex\u001b[0m\u001b[0;34m(\u001b[0m\u001b[0;36m1000\u001b[0m\u001b[0;34m,\u001b[0m\u001b[0;36m3\u001b[0m\u001b[0;34m)\u001b[0m\u001b[0;34m\u001b[0m\u001b[0;34m\u001b[0m\u001b[0m\n\u001b[0m",
            "\u001b[0;31mValueError\u001b[0m: 1000 is not in list"
          ]
        }
      ]
    },
    {
      "cell_type": "code",
      "source": [
        "lista_0.index(50,1,6) #Busca el indicie de la lista"
      ],
      "metadata": {
        "colab": {
          "base_uri": "https://localhost:8080/"
        },
        "id": "HspN7DsmpQGl",
        "outputId": "1f1dd6c2-219c-49f8-ec31-88a0d18575ab"
      },
      "execution_count": 78,
      "outputs": [
        {
          "output_type": "execute_result",
          "data": {
            "text/plain": [
              "3"
            ]
          },
          "metadata": {},
          "execution_count": 78
        }
      ]
    },
    {
      "cell_type": "code",
      "source": [
        "lista_0.index(10,1,6)"
      ],
      "metadata": {
        "colab": {
          "base_uri": "https://localhost:8080/",
          "height": 144
        },
        "id": "esPvv317pdo5",
        "outputId": "0b39f408-9d56-43b6-bf0b-4f29556737f0"
      },
      "execution_count": 79,
      "outputs": [
        {
          "output_type": "error",
          "ename": "ValueError",
          "evalue": "10 is not in list",
          "traceback": [
            "\u001b[0;31m---------------------------------------------------------------------------\u001b[0m",
            "\u001b[0;31mValueError\u001b[0m                                Traceback (most recent call last)",
            "\u001b[0;32m<ipython-input-79-39938f902f12>\u001b[0m in \u001b[0;36m<cell line: 1>\u001b[0;34m()\u001b[0m\n\u001b[0;32m----> 1\u001b[0;31m \u001b[0mlista_0\u001b[0m\u001b[0;34m.\u001b[0m\u001b[0mindex\u001b[0m\u001b[0;34m(\u001b[0m\u001b[0;36m10\u001b[0m\u001b[0;34m,\u001b[0m\u001b[0;36m1\u001b[0m\u001b[0;34m,\u001b[0m\u001b[0;36m6\u001b[0m\u001b[0;34m)\u001b[0m\u001b[0;34m\u001b[0m\u001b[0;34m\u001b[0m\u001b[0m\n\u001b[0m",
            "\u001b[0;31mValueError\u001b[0m: 10 is not in list"
          ]
        }
      ]
    },
    {
      "cell_type": "code",
      "source": [
        "lista_0.index(10,1,7)"
      ],
      "metadata": {
        "colab": {
          "base_uri": "https://localhost:8080/"
        },
        "id": "ru62hw36puh4",
        "outputId": "5f1686b2-a37d-4d49-8903-46c69e35d398"
      },
      "execution_count": 80,
      "outputs": [
        {
          "output_type": "execute_result",
          "data": {
            "text/plain": [
              "6"
            ]
          },
          "metadata": {},
          "execution_count": 80
        }
      ]
    },
    {
      "cell_type": "markdown",
      "source": [
        "El dia de hoy se aprendio a ordenar, buscar, eliminar los elementos de la lista.\n",
        "\n",
        "Correo del docente:\n",
        "david.allendeq@gmail.com\n",
        "+51997620644"
      ],
      "metadata": {
        "id": "FngMLNDqq1QA"
      }
    }
  ]
}