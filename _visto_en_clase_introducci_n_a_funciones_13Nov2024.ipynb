{
  "nbformat": 4,
  "nbformat_minor": 0,
  "metadata": {
    "colab": {
      "provenance": [],
      "name": "-visto-en-clase-introducci-n_a_funciones_13Nov2024.ipynb",
      "include_colab_link": true
    },
    "kernelspec": {
      "name": "python3",
      "display_name": "Python 3"
    },
    "language_info": {
      "name": "python"
    }
  },
  "cells": [
    {
      "cell_type": "markdown",
      "metadata": {
        "id": "view-in-github",
        "colab_type": "text"
      },
      "source": [
        "<a href=\"https://colab.research.google.com/github/ferdinand1810/UTEC---Fundamentos-de-Programacion/blob/main/_visto_en_clase_introducci_n_a_funciones_13Nov2024.ipynb\" target=\"_parent\"><img src=\"https://colab.research.google.com/assets/colab-badge.svg\" alt=\"Open In Colab\"/></a>"
      ]
    },
    {
      "cell_type": "markdown",
      "source": [
        "<img src=\"https://www.ctic.uni.edu.pe/wp-content/uploads/2022/04/588px-x-348px-web-1.png\" alt=\"HTML5 Icon\" width=\"900\" height=\"350\" >"
      ],
      "metadata": {
        "id": "1kz6dp8bVM4b"
      }
    },
    {
      "cell_type": "markdown",
      "source": [
        "# **Introducción a Funciones**\n",
        "\n",
        "---"
      ],
      "metadata": {
        "id": "8KzYn4KdVFQe"
      }
    },
    {
      "cell_type": "markdown",
      "source": [
        "**Objetivo:** Al finalizar el laboratorio, los estudiantes tendrás  conocimiento sobre la creación y uso de funciones en Python, incluyendo parámetros, valores de retorno, alcance de variables, funciones lambda, recursión, manejo de excepciones y documentación de funciones."
      ],
      "metadata": {
        "id": "2-XS1YRPV52V"
      }
    },
    {
      "cell_type": "markdown",
      "source": [
        "## Tabla de Contenidos\n",
        "\n",
        "<div class=\"alert alert-block alert-info\" style=\"margin-top: 20px\">\n",
        "\n",
        "<font size = 3>\n",
        "\n",
        "1. <a href=\"#item31\">Introducción a las Funciones</a>\n",
        "2. <a href=\"#item31\">Parámetros y Argumentos</a>\n",
        "3. <a href=\"#item31\">Valores de Retorno</a>\n",
        "4. <a href=\"#item31\">Alcance de Variables (Scope)</a>\n",
        "5. <a href=\"#item31\">Funciones Lambda</a>\n",
        "6. <a href=\"#item31\">Recursión</a>\n",
        "7. <a href=\"#item31\">Manejo de Excepciones en Funciones</a>\n",
        "8. <a href=\"#item31\">Documentación de Funciones</a>\n",
        "\n",
        "\n",
        "</font>\n",
        "</div>\n",
        "\n",
        "---"
      ],
      "metadata": {
        "id": "RljRC2mkVS48"
      }
    },
    {
      "cell_type": "markdown",
      "source": [
        "## 1. Introducción a las Funciones\n",
        "\n",
        "### Descripción:\n",
        "\n"
      ],
      "metadata": {
        "id": "CBXRP0fNWEjc"
      }
    },
    {
      "cell_type": "markdown",
      "source": [
        "**Definición y sintaxis básica:**\n",
        "\n",
        "Una función es un bloque de código reutilizable que realiza una tarea específica.\n"
      ],
      "metadata": {
        "id": "gmDRKV6GWlAn"
      }
    },
    {
      "cell_type": "markdown",
      "source": [
        "Sintaxis básica:"
      ],
      "metadata": {
        "id": "r60aiZ6sWmYQ"
      }
    },
    {
      "cell_type": "code",
      "execution_count": null,
      "metadata": {
        "id": "f8G98BQMVA0S"
      },
      "outputs": [],
      "source": [
        "def nombre_funcion(parámetros):\n",
        "    \"\"\"Docstring opcional.\"\"\"\n",
        "    # Cuerpo de la función\n",
        "    return valor_de_retorno\n"
      ]
    },
    {
      "cell_type": "markdown",
      "source": [
        "**Ventajas de usar funciones:**\n",
        "\n",
        "- Reutilización de código.\n",
        "- Modularidad y organización.\n",
        "- Facilita el mantenimiento y la lectura del código."
      ],
      "metadata": {
        "id": "4UAV5-njWrv9"
      }
    },
    {
      "cell_type": "markdown",
      "source": [
        "###Ejemplos:\n",
        "\n"
      ],
      "metadata": {
        "id": "LqcLEo2TW1_P"
      }
    },
    {
      "cell_type": "markdown",
      "source": [
        "**Ejemplo 1.1:** Función sin parámetros:\n"
      ],
      "metadata": {
        "id": "tJqTA5wjXIim"
      }
    },
    {
      "cell_type": "code",
      "source": [
        "def saludo():\n",
        "    \"\"\"Función que imprime un saludo.\"\"\"\n",
        "    print(\"¡Hola, bienvenidos al curso de Python!\")\n",
        "\n",
        "saludo()  # Llamada a la función\n"
      ],
      "metadata": {
        "id": "v5roj9PzW1rE"
      },
      "execution_count": null,
      "outputs": []
    },
    {
      "cell_type": "markdown",
      "source": [
        "**Ejemplo 1.2:** Función con parámetros:"
      ],
      "metadata": {
        "id": "_9ZWKYznXMhx"
      }
    },
    {
      "cell_type": "code",
      "source": [
        "def saludo_personalizado(nombre):\n",
        "    \"\"\"Función que saluda a una persona específica.\"\"\"\n",
        "    print(f\"¡Hola, {nombre}! Bienvenido al curso de Python.\")\n",
        "\n",
        "saludo_personalizado(\"Carlos\")\n"
      ],
      "metadata": {
        "id": "T7GcvplWXOsn"
      },
      "execution_count": null,
      "outputs": []
    },
    {
      "cell_type": "markdown",
      "source": [
        "**Ejemplo 1.3:** Función que calcula el área de un círculo:"
      ],
      "metadata": {
        "id": "CtK-gjU4Xgu-"
      }
    },
    {
      "cell_type": "code",
      "source": [
        "import math\n",
        "\n",
        "def area_circulo(radio):\n",
        "    \"\"\"Calcula el área de un círculo dado su radio.\"\"\"\n",
        "    return math.pi * radio ** 2\n",
        "\n",
        "print(area_circulo(5))  # Imprime el área del círculo con radio 5\n"
      ],
      "metadata": {
        "id": "aVhIq8PzXjlv"
      },
      "execution_count": null,
      "outputs": []
    },
    {
      "cell_type": "markdown",
      "source": [
        "**Ejemplo 1.4:** Función que determina si un número es par o impar:"
      ],
      "metadata": {
        "id": "U-Z0WhClXlfY"
      }
    },
    {
      "cell_type": "code",
      "source": [
        "def es_par(n):\n",
        "    \"\"\"Verifica si un número es par o impar.\"\"\"\n",
        "    if n % 2 == 0:\n",
        "        return True\n",
        "    else:\n",
        "        return False\n",
        "\n",
        "print(es_par(10))  # Imprime True\n",
        "print(es_par(7))   # Imprime False\n"
      ],
      "metadata": {
        "id": "Eu6_s_XPXyIh"
      },
      "execution_count": null,
      "outputs": []
    },
    {
      "cell_type": "markdown",
      "source": [
        "**Ejemplo 1.5** Función que genera una lista de números aleatorios:\n"
      ],
      "metadata": {
        "id": "-_FxDky2Xyq5"
      }
    },
    {
      "cell_type": "code",
      "source": [
        "import random\n",
        "\n",
        "def generar_numeros_aleatorios(cantidad, inicio, fin):\n",
        "    \"\"\"Genera una lista de números aleatorios.\"\"\"\n",
        "    numeros = []\n",
        "    for _ in range(cantidad):\n",
        "        numeros.append(random.randint(inicio, fin))\n",
        "    return numeros\n",
        "\n",
        "print(generar_numeros_aleatorios(5, 1, 100))\n"
      ],
      "metadata": {
        "id": "_GIe8-I_X7ZY"
      },
      "execution_count": null,
      "outputs": []
    },
    {
      "cell_type": "markdown",
      "source": [
        "### Ejercicios:"
      ],
      "metadata": {
        "id": "6d5gKDDfYAry"
      }
    },
    {
      "cell_type": "markdown",
      "source": [
        "\n",
        "**Ejercicio 1.1.**\n",
        "\n",
        "Cálculo de distancia euclidiana:\n",
        "\n",
        "Crea una función distancia_euclidiana(punto1, punto2) que calcule la distancia entre dos puntos en un plano 2D.\n",
        "Tip: Los puntos pueden representarse como tuplas (x, y).\n",
        "\n"
      ],
      "metadata": {
        "id": "6yf0XzjlYEyw"
      }
    },
    {
      "cell_type": "code",
      "source": [],
      "metadata": {
        "id": "M08dwqpTYLCk"
      },
      "execution_count": null,
      "outputs": []
    },
    {
      "cell_type": "markdown",
      "source": [
        "**Ejercicio 1.2.**\n",
        "\n",
        "Conversión de números romanos:\n",
        "\n",
        "Escribe una función romano_a_entero(romano) que convierta un número romano a un entero.\n"
      ],
      "metadata": {
        "id": "yLDf77BMYLXN"
      }
    },
    {
      "cell_type": "code",
      "source": [],
      "metadata": {
        "id": "FkYoXQEWYYtS"
      },
      "execution_count": null,
      "outputs": []
    },
    {
      "cell_type": "markdown",
      "source": [
        "**Ejercicio 1.3**\n",
        "\n",
        "Generador de contraseñas seguras:\n",
        "\n",
        "Define una función generar_contraseña(longitud) que genere una contraseña aleatoria que incluya letras, números y símbolos.\n",
        "Tip: Usa el módulo random y la biblioteca string."
      ],
      "metadata": {
        "id": "bprM7QYfYZCx"
      }
    },
    {
      "cell_type": "code",
      "source": [],
      "metadata": {
        "id": "c6Q4T5OnYdHi"
      },
      "execution_count": null,
      "outputs": []
    },
    {
      "cell_type": "markdown",
      "source": [
        "**Ejercicio 1.4**\n",
        "\n",
        "Verificación de palíndromos:\n",
        "\n",
        "Crea una función es_palindromo(cadena) que verifique si una cadena es un palíndromo (se lee igual al derecho y al revés).\n",
        "Desafío: Ignora espacios y considera mayúsculas y minúsculas."
      ],
      "metadata": {
        "id": "htiQw6-iYoN9"
      }
    },
    {
      "cell_type": "code",
      "source": [],
      "metadata": {
        "id": "2JLDBZpCYr8p"
      },
      "execution_count": null,
      "outputs": []
    },
    {
      "cell_type": "markdown",
      "source": [
        "**Ejercicio 1.5**\n",
        "\n",
        "Análisis de frecuencia de palabras:\n",
        "\n",
        "Escribe una función frecuencia_palabras(texto) que reciba un texto y devuelva un diccionario con la frecuencia de cada palabra.\n",
        "Tip: Usa el método split() y considera eliminar puntuación.\n"
      ],
      "metadata": {
        "id": "gVAG_pn_YstI"
      }
    },
    {
      "cell_type": "markdown",
      "source": [],
      "metadata": {
        "id": "PkIzdUfxYzF5"
      }
    },
    {
      "cell_type": "code",
      "source": [],
      "metadata": {
        "id": "1Rq0GR0MY2cH"
      },
      "execution_count": null,
      "outputs": []
    },
    {
      "cell_type": "markdown",
      "source": [
        "**Ejercicio 1.6**\n",
        "\n",
        "Conversión de unidades de temperatura:\n",
        "\n",
        "Define una función convertir_temperatura(valor, origen, destino) que convierta temperaturas entre Celsius, Fahrenheit y Kelvin.\n",
        "Desafío: Maneja casos inválidos y verifica las unidades de entrada.\n"
      ],
      "metadata": {
        "id": "sro1FnLfY70L"
      }
    },
    {
      "cell_type": "code",
      "source": [],
      "metadata": {
        "id": "RmlvreaWZCe8"
      },
      "execution_count": null,
      "outputs": []
    },
    {
      "cell_type": "markdown",
      "source": [
        "**Ejercicio 1.7**\n",
        "\n",
        "Calculadora de propinas:\n",
        "\n",
        "Crea una función calcular_propina(total, porcentaje=10) que calcule la propina a partir del total de una cuenta.\n",
        "Tip: El parámetro porcentaje debe ser opcional."
      ],
      "metadata": {
        "id": "Y68FL_jPZCzm"
      }
    },
    {
      "cell_type": "code",
      "source": [],
      "metadata": {
        "id": "VErbZ-hkZHtR"
      },
      "execution_count": null,
      "outputs": []
    },
    {
      "cell_type": "markdown",
      "source": [
        "\n",
        "**Ejercicio 1.8**\n",
        "\n",
        "Determinación de años bisiestos:\n",
        "\n",
        "Escribe una función es_bisiesto(año) que determine si un año es bisiesto.\n",
        "Desafío: Considera las reglas de los años divisibles por 100 y 400.\n"
      ],
      "metadata": {
        "id": "CknEoI5HZIAt"
      }
    },
    {
      "cell_type": "code",
      "source": [],
      "metadata": {
        "id": "UmssWGfxZQtA"
      },
      "execution_count": null,
      "outputs": []
    },
    {
      "cell_type": "markdown",
      "source": [
        "**Ejercicio 1.9**\n",
        "\n",
        "Generador de números Fibonacci:\n",
        "\n",
        "\n",
        "Define una función generar_fibonacci(n) que retorne una lista con los primeros n números de la serie de Fibonacci.\n",
        "Tip: Usa un bucle para generar la serie."
      ],
      "metadata": {
        "id": "t9bUone7ZRK1"
      }
    },
    {
      "cell_type": "code",
      "source": [],
      "metadata": {
        "id": "T5gKjlBRZWc_"
      },
      "execution_count": null,
      "outputs": []
    },
    {
      "cell_type": "markdown",
      "source": [
        "\n",
        "\n",
        "\n",
        "\n",
        "**Ejercicio 1.10**\n",
        "\n",
        "Calculadora de índice de masa corporal (IMC):\n",
        "\n",
        "Crea una función calcular_imc(peso, altura) que calcule el IMC y retorne una categoría (bajo peso, normal, sobrepeso, obesidad).\n",
        "Desafío: Usa las categorías estándar de la OMS."
      ],
      "metadata": {
        "id": "bY6YSYtyX_Rk"
      }
    },
    {
      "cell_type": "code",
      "source": [],
      "metadata": {
        "id": "k3ml8dyxZaHC"
      },
      "execution_count": null,
      "outputs": []
    },
    {
      "cell_type": "markdown",
      "source": [
        "**Ejercicio 1.11**\n",
        "\n",
        "Juego de adivinanza:\n",
        "\n",
        "Escribe una función adivinar_numero() que genere un número aleatorio y permita al usuario adivinarlo, indicando si el número ingresado es mayor o menor hasta que acierte."
      ],
      "metadata": {
        "id": "D2QSLlghbKiT"
      }
    },
    {
      "cell_type": "code",
      "source": [],
      "metadata": {
        "id": "acPqyrfpbQoq"
      },
      "execution_count": null,
      "outputs": []
    },
    {
      "cell_type": "code",
      "source": [
        "# Cómo estructurar una función\n",
        "\n",
        "def my_function():\n",
        "  ''' Aqui va la documentación de la función'''\n",
        "  print('Bienvenido al curso')\n"
      ],
      "metadata": {
        "id": "qLnLY3-bGrc0"
      },
      "execution_count": null,
      "outputs": []
    },
    {
      "cell_type": "code",
      "source": [
        "my_function?"
      ],
      "metadata": {
        "id": "DoSDicD0HKj-"
      },
      "execution_count": null,
      "outputs": []
    },
    {
      "cell_type": "code",
      "source": [],
      "metadata": {
        "id": "uHPLzmEZK-ZR"
      },
      "execution_count": null,
      "outputs": []
    },
    {
      "cell_type": "code",
      "source": [
        "import pandas as pd\n",
        "import numpy as np\n"
      ],
      "metadata": {
        "id": "a5cgQMNRLDCt"
      },
      "execution_count": null,
      "outputs": []
    },
    {
      "cell_type": "code",
      "source": [
        "import sklearn.model_selection as ms\n",
        "\n",
        "ms.train_test_split"
      ],
      "metadata": {
        "id": "Si3crDq7HSmt",
        "outputId": "19d1754f-51b0-4aad-c314-a700cbae9745",
        "colab": {
          "base_uri": "https://localhost:8080/",
          "height": 204
        }
      },
      "execution_count": null,
      "outputs": [
        {
          "output_type": "execute_result",
          "data": {
            "text/plain": [
              "<function sklearn.model_selection._split.train_test_split(*arrays, test_size=None, train_size=None, random_state=None, shuffle=True, stratify=None)>"
            ],
            "text/html": [
              "<div style=\"max-width:800px; border: 1px solid var(--colab-border-color);\"><style>\n",
              "      pre.function-repr-contents {\n",
              "        overflow-x: auto;\n",
              "        padding: 8px 12px;\n",
              "        max-height: 500px;\n",
              "      }\n",
              "\n",
              "      pre.function-repr-contents.function-repr-contents-collapsed {\n",
              "        cursor: pointer;\n",
              "        max-height: 100px;\n",
              "      }\n",
              "    </style>\n",
              "    <pre style=\"white-space: initial; background:\n",
              "         var(--colab-secondary-surface-color); padding: 8px 12px;\n",
              "         border-bottom: 1px solid var(--colab-border-color);\"><b>sklearn.model_selection._split.train_test_split</b><br/>def train_test_split(*arrays, test_size=None, train_size=None, random_state=None, shuffle=True, stratify=None)</pre><pre class=\"function-repr-contents function-repr-contents-collapsed\" style=\"\"><a class=\"filepath\" style=\"display:none\" href=\"#\">/usr/local/lib/python3.10/dist-packages/sklearn/model_selection/_split.py</a>Split arrays or matrices into random train and test subsets.\n",
              "\n",
              "Quick utility that wraps input validation,\n",
              "``next(ShuffleSplit().split(X, y))``, and application to input data\n",
              "into a single call for splitting (and optionally subsampling) data into a\n",
              "one-liner.\n",
              "\n",
              "Read more in the :ref:`User Guide &lt;cross_validation&gt;`.\n",
              "\n",
              "Parameters\n",
              "----------\n",
              "*arrays : sequence of indexables with same length / shape[0]\n",
              "    Allowed inputs are lists, numpy arrays, scipy-sparse\n",
              "    matrices or pandas dataframes.\n",
              "\n",
              "test_size : float or int, default=None\n",
              "    If float, should be between 0.0 and 1.0 and represent the proportion\n",
              "    of the dataset to include in the test split. If int, represents the\n",
              "    absolute number of test samples. If None, the value is set to the\n",
              "    complement of the train size. If ``train_size`` is also None, it will\n",
              "    be set to 0.25.\n",
              "\n",
              "train_size : float or int, default=None\n",
              "    If float, should be between 0.0 and 1.0 and represent the\n",
              "    proportion of the dataset to include in the train split. If\n",
              "    int, represents the absolute number of train samples. If None,\n",
              "    the value is automatically set to the complement of the test size.\n",
              "\n",
              "random_state : int, RandomState instance or None, default=None\n",
              "    Controls the shuffling applied to the data before applying the split.\n",
              "    Pass an int for reproducible output across multiple function calls.\n",
              "    See :term:`Glossary &lt;random_state&gt;`.\n",
              "\n",
              "shuffle : bool, default=True\n",
              "    Whether or not to shuffle the data before splitting. If shuffle=False\n",
              "    then stratify must be None.\n",
              "\n",
              "stratify : array-like, default=None\n",
              "    If not None, data is split in a stratified fashion, using this as\n",
              "    the class labels.\n",
              "    Read more in the :ref:`User Guide &lt;stratification&gt;`.\n",
              "\n",
              "Returns\n",
              "-------\n",
              "splitting : list, length=2 * len(arrays)\n",
              "    List containing train-test split of inputs.\n",
              "\n",
              "    .. versionadded:: 0.16\n",
              "        If the input is sparse, the output will be a\n",
              "        ``scipy.sparse.csr_matrix``. Else, output type is the same as the\n",
              "        input type.\n",
              "\n",
              "Examples\n",
              "--------\n",
              "&gt;&gt;&gt; import numpy as np\n",
              "&gt;&gt;&gt; from sklearn.model_selection import train_test_split\n",
              "&gt;&gt;&gt; X, y = np.arange(10).reshape((5, 2)), range(5)\n",
              "&gt;&gt;&gt; X\n",
              "array([[0, 1],\n",
              "       [2, 3],\n",
              "       [4, 5],\n",
              "       [6, 7],\n",
              "       [8, 9]])\n",
              "&gt;&gt;&gt; list(y)\n",
              "[0, 1, 2, 3, 4]\n",
              "\n",
              "&gt;&gt;&gt; X_train, X_test, y_train, y_test = train_test_split(\n",
              "...     X, y, test_size=0.33, random_state=42)\n",
              "...\n",
              "&gt;&gt;&gt; X_train\n",
              "array([[4, 5],\n",
              "       [0, 1],\n",
              "       [6, 7]])\n",
              "&gt;&gt;&gt; y_train\n",
              "[2, 0, 3]\n",
              "&gt;&gt;&gt; X_test\n",
              "array([[2, 3],\n",
              "       [8, 9]])\n",
              "&gt;&gt;&gt; y_test\n",
              "[1, 4]\n",
              "\n",
              "&gt;&gt;&gt; train_test_split(y, shuffle=False)\n",
              "[[0, 1, 2], [3, 4]]</pre>\n",
              "      <script>\n",
              "      if (google.colab.kernel.accessAllowed && google.colab.files && google.colab.files.view) {\n",
              "        for (const element of document.querySelectorAll('.filepath')) {\n",
              "          element.style.display = 'block'\n",
              "          element.onclick = (event) => {\n",
              "            event.preventDefault();\n",
              "            event.stopPropagation();\n",
              "            google.colab.files.view(element.textContent, 2668);\n",
              "          };\n",
              "        }\n",
              "      }\n",
              "      for (const element of document.querySelectorAll('.function-repr-contents')) {\n",
              "        element.onclick = (event) => {\n",
              "          event.preventDefault();\n",
              "          event.stopPropagation();\n",
              "          element.classList.toggle('function-repr-contents-collapsed');\n",
              "        };\n",
              "      }\n",
              "      </script>\n",
              "      </div>"
            ]
          },
          "metadata": {},
          "execution_count": 28
        }
      ]
    },
    {
      "cell_type": "code",
      "source": [
        "train_test_split?"
      ],
      "metadata": {
        "id": "8eNQyKhvHvW0"
      },
      "execution_count": null,
      "outputs": []
    },
    {
      "cell_type": "code",
      "source": [
        "my_function()"
      ],
      "metadata": {
        "id": "yFGtHB4nIJE2",
        "outputId": "c81df1c2-720a-4cd1-9827-09ab0d933202",
        "colab": {
          "base_uri": "https://localhost:8080/"
        }
      },
      "execution_count": null,
      "outputs": [
        {
          "output_type": "stream",
          "name": "stdout",
          "text": [
            "Bienvenido al curso\n"
          ]
        }
      ]
    },
    {
      "cell_type": "code",
      "source": [
        "my_function()"
      ],
      "metadata": {
        "id": "mcRbMF2DJ11q",
        "outputId": "fae3fe68-8148-4789-8c00-63d0ad7a208d",
        "colab": {
          "base_uri": "https://localhost:8080/"
        }
      },
      "execution_count": null,
      "outputs": [
        {
          "output_type": "stream",
          "name": "stdout",
          "text": [
            "Bienvenido al curso\n"
          ]
        }
      ]
    },
    {
      "cell_type": "code",
      "source": [
        "def my_function(name):\n",
        "  ''' Aqui va la documentación de la función'''\n",
        "  print(f'Bienvenido al curso {name}')\n"
      ],
      "metadata": {
        "id": "yhFJZKopKDCn"
      },
      "execution_count": null,
      "outputs": []
    },
    {
      "cell_type": "code",
      "source": [
        "my_function('John')"
      ],
      "metadata": {
        "id": "9Bq3TAXcKXYq",
        "outputId": "d8c56f29-1df1-4f91-8739-882f96645e4d",
        "colab": {
          "base_uri": "https://localhost:8080/"
        }
      },
      "execution_count": null,
      "outputs": [
        {
          "output_type": "stream",
          "name": "stdout",
          "text": [
            "Bienvenido al curso John\n"
          ]
        }
      ]
    },
    {
      "cell_type": "code",
      "source": [
        "my_function('Jorge')"
      ],
      "metadata": {
        "id": "WcP9mnt3KgeY",
        "outputId": "38fca96b-665a-404c-e182-62ceebdb9d7d",
        "colab": {
          "base_uri": "https://localhost:8080/"
        }
      },
      "execution_count": null,
      "outputs": [
        {
          "output_type": "stream",
          "name": "stdout",
          "text": [
            "Bienvenido al curso Jorge\n"
          ]
        }
      ]
    },
    {
      "cell_type": "code",
      "source": [
        "def my_function(name, last_name):\n",
        "  ''' Aqui va la documentación de la función'''\n",
        "  print(f'Bienvenido al curso {name} {last_name}')"
      ],
      "metadata": {
        "id": "8qESfjO5LScL"
      },
      "execution_count": null,
      "outputs": []
    },
    {
      "cell_type": "code",
      "source": [
        "my_function('John', 'Caballero')"
      ],
      "metadata": {
        "id": "NzWPmfR3LYO3",
        "outputId": "218b6ade-6978-42c6-83d8-950888ba47e0",
        "colab": {
          "base_uri": "https://localhost:8080/"
        }
      },
      "execution_count": null,
      "outputs": [
        {
          "output_type": "stream",
          "name": "stdout",
          "text": [
            "Bienvenido al curso John Caballero\n"
          ]
        }
      ]
    },
    {
      "cell_type": "code",
      "source": [
        "\n",
        "my_function(last_name = 'Caballero',\n",
        "            name = 'John')\n"
      ],
      "metadata": {
        "id": "xjnsyYw6LfjH",
        "outputId": "aa0a809b-31c5-490a-8cb3-1326b52e1091",
        "colab": {
          "base_uri": "https://localhost:8080/"
        }
      },
      "execution_count": null,
      "outputs": [
        {
          "output_type": "stream",
          "name": "stdout",
          "text": [
            "Bienvenido al curso John Caballero\n"
          ]
        }
      ]
    },
    {
      "cell_type": "code",
      "source": [
        "def my_function(name, last_name, curso = 'programación'):\n",
        "  ''' Aqui va la documentación de la función'''\n",
        "  print(f'Bienvenido al curso de {curso}, {name} {last_name}!')\n"
      ],
      "metadata": {
        "id": "D5sRH3RpL4Rl"
      },
      "execution_count": null,
      "outputs": []
    },
    {
      "cell_type": "code",
      "source": [
        "my_function(name = 'John',\n",
        "            last_name = 'Caballero')"
      ],
      "metadata": {
        "id": "JtUN0o9gMMBe",
        "outputId": "da7c66fd-125f-4b62-eceb-cdbc8add1806",
        "colab": {
          "base_uri": "https://localhost:8080/"
        }
      },
      "execution_count": null,
      "outputs": [
        {
          "output_type": "stream",
          "name": "stdout",
          "text": [
            "Bienvenido al curso de programación, John Caballero!\n"
          ]
        }
      ]
    },
    {
      "cell_type": "code",
      "source": [
        "my_function(name = 'John',\n",
        "            last_name = 'Caballero',\n",
        "            curso = 'idiomas')\n"
      ],
      "metadata": {
        "id": "Sa4Gu6ecMPIR",
        "outputId": "3d813aab-abbc-4bef-dd3a-014533c7fd96",
        "colab": {
          "base_uri": "https://localhost:8080/"
        }
      },
      "execution_count": null,
      "outputs": [
        {
          "output_type": "stream",
          "name": "stdout",
          "text": [
            "Bienvenido al curso de idiomas, John Caballero!\n"
          ]
        }
      ]
    },
    {
      "cell_type": "markdown",
      "source": [
        "## 2. Parámetros y Argumentos"
      ],
      "metadata": {
        "id": "MyFm7h9CZlCN"
      }
    },
    {
      "cell_type": "markdown",
      "source": [
        "**Descripción:**\n",
        "\n",
        "**Parámetros posicionales y argumentos:**\n",
        "\n",
        "Los parámetros se definen en la declaración de la función y los argumentos se pasan al llamar a la función.\n",
        "\n",
        "**Parámetros con valores por defecto:**\n",
        "\n",
        "- Permiten que ciertos parámetros sean opcionales.\n",
        "- Argumentos nombrados (keyword arguments):\n",
        "- Especificar argumentos por nombre, independientemente del orden.\n",
        "\n",
        "**Argumentos arbitrarios:**\n",
        "\n",
        "- *args: Permite pasar un número variable de argumentos posicionales.\n",
        "\n",
        "- **kwargs: Permite pasar un número variable de argumentos nombrados."
      ],
      "metadata": {
        "id": "_kimTVJjZq9r"
      }
    },
    {
      "cell_type": "markdown",
      "source": [
        "### Ejemplos:\n"
      ],
      "metadata": {
        "id": "qQaeV-U-aBxq"
      }
    },
    {
      "cell_type": "markdown",
      "source": [
        "**Ejemplo 2.1.:** Función con parámetros por defecto y argumentos nombrados:\n"
      ],
      "metadata": {
        "id": "HbgKJrNMaD3m"
      }
    },
    {
      "cell_type": "code",
      "source": [
        "def enviar_email(destinatario, asunto=\"Sin asunto\", mensaje=\"\"):\n",
        "    \"\"\"Envía un email simulado con los detalles proporcionados.\"\"\"\n",
        "    print(f\"Enviando email a: {destinatario}\")\n",
        "    print(f\"Asunto: {asunto}\")\n",
        "    print(f\"Mensaje: {mensaje}\")\n"
      ],
      "metadata": {
        "id": "K8QRuKsmaLRV"
      },
      "execution_count": null,
      "outputs": []
    },
    {
      "cell_type": "code",
      "source": [
        "enviar_email(destinatario = \"usuario@example.com\",\n",
        "             mensaje = \"Hola, este es un mensaje de prueba.\")\n"
      ],
      "metadata": {
        "id": "DFia2Ni1NVBW",
        "outputId": "01b0fead-08f6-4c78-977f-6b0f022bf00c",
        "colab": {
          "base_uri": "https://localhost:8080/"
        }
      },
      "execution_count": null,
      "outputs": [
        {
          "output_type": "stream",
          "name": "stdout",
          "text": [
            "Enviando email a: usuario@example.com\n",
            "Asunto: Sin asunto\n",
            "Mensaje: Hola, este es un mensaje de prueba.\n"
          ]
        }
      ]
    },
    {
      "cell_type": "code",
      "source": [
        "\n",
        "enviar_email(destinatario = \"usuario@example.com\",\n",
        "             asunto = 'Prueba',\n",
        "             mensaje = \"Hola, este es un mensaje de prueba.\")\n"
      ],
      "metadata": {
        "id": "nJAT0wgWNmg5",
        "outputId": "60b5fee3-a3b9-4fd5-d351-12508adbbad1",
        "colab": {
          "base_uri": "https://localhost:8080/"
        }
      },
      "execution_count": null,
      "outputs": [
        {
          "output_type": "stream",
          "name": "stdout",
          "text": [
            "Enviando email a: usuario@example.com\n",
            "Asunto: Prueba\n",
            "Mensaje: Hola, este es un mensaje de prueba.\n"
          ]
        }
      ]
    },
    {
      "cell_type": "markdown",
      "source": [
        "**Ejemplo 2.2.:** Uso de *args para sumar números:"
      ],
      "metadata": {
        "id": "ikNqiWj1aMdO"
      }
    },
    {
      "cell_type": "code",
      "source": [
        "\n",
        "def num_suma(*numeros):\n",
        "  resultado = sum(numeros)\n",
        "  print(f'la suma de {numeros} es: {resultado}')\n",
        "\n"
      ],
      "metadata": {
        "id": "tgiJ7Lb-N8Y6"
      },
      "execution_count": null,
      "outputs": []
    },
    {
      "cell_type": "code",
      "source": [
        "num_suma(1, 2, 3, 4, 5, 6, 10)"
      ],
      "metadata": {
        "id": "dXeNs8G8OOGb",
        "outputId": "273fc4c7-898c-4fe3-9119-c63d70e7ab96",
        "colab": {
          "base_uri": "https://localhost:8080/"
        }
      },
      "execution_count": null,
      "outputs": [
        {
          "output_type": "stream",
          "name": "stdout",
          "text": [
            "la suma de (1, 2, 3, 4, 5, 6, 10) es: 31\n"
          ]
        }
      ]
    },
    {
      "cell_type": "code",
      "source": [
        "\n",
        "def make_pizza(*toppings):\n",
        "  print(f'los topping de la pizza son {toppings}')\n"
      ],
      "metadata": {
        "id": "5FdCv98oOXPi"
      },
      "execution_count": null,
      "outputs": []
    },
    {
      "cell_type": "code",
      "source": [
        "make_pizza('peperoni', 'jalapeños', 'piña')"
      ],
      "metadata": {
        "id": "So5INMxbPe-s",
        "outputId": "c2aee271-89c4-428f-e842-2f6b91173dc6",
        "colab": {
          "base_uri": "https://localhost:8080/"
        }
      },
      "execution_count": null,
      "outputs": [
        {
          "output_type": "stream",
          "name": "stdout",
          "text": [
            "los topping de la pizza son ('peperoni', 'jalapeños', 'piña')\n"
          ]
        }
      ]
    },
    {
      "cell_type": "code",
      "source": [
        "def sumar_numeros(*numeros):\n",
        "    \"\"\"Suma una cantidad variable de números.\"\"\"\n",
        "    total = sum(numeros)\n",
        "    print(f\"La suma de {numeros} es {total}\")\n",
        "\n",
        "sumar_numeros(1, 2, 3)\n",
        "sumar_numeros(4, 5, 6, 7)\n"
      ],
      "metadata": {
        "id": "8NFgI8veaSQb"
      },
      "execution_count": null,
      "outputs": []
    },
    {
      "cell_type": "code",
      "source": [
        "\n",
        "def cursos(*curso):\n",
        "  print(f'Felicidades te has inscrito a: {curso}')\n"
      ],
      "metadata": {
        "id": "6lRG7TnQQEmV"
      },
      "execution_count": null,
      "outputs": []
    },
    {
      "cell_type": "code",
      "source": [
        "cursos('programación', 'idiomas', 'matemáticas', 'álgebra', 'estadística')"
      ],
      "metadata": {
        "id": "Y3FYhyxjQVSv",
        "outputId": "ba0f1fa0-e2a8-47c5-d00e-d1f55dbb2676",
        "colab": {
          "base_uri": "https://localhost:8080/"
        }
      },
      "execution_count": null,
      "outputs": [
        {
          "output_type": "stream",
          "name": "stdout",
          "text": [
            "Felicidades te has inscrito a: ('programación', 'idiomas', 'matemáticas', 'álgebra', 'estadística')\n"
          ]
        }
      ]
    },
    {
      "cell_type": "code",
      "source": [
        "\n",
        "def cursos(name, *curso):\n",
        "    print(f'Felicidades {name} te has inscrito a: {curso}')\n",
        "\n",
        "cursos('John', 'programación', 'idiomas', 'álgebra')\n"
      ],
      "metadata": {
        "id": "6Dg-4drgTp1A"
      },
      "execution_count": null,
      "outputs": []
    },
    {
      "cell_type": "markdown",
      "source": [
        "**Ejercicio 2.3:** Uso de **kwargs para crear un perfil de usuario:\n"
      ],
      "metadata": {
        "id": "P2PfeB5baUWJ"
      }
    },
    {
      "cell_type": "code",
      "source": [
        "def crear_perfil(**informacion):\n",
        "    \"\"\"Crea un perfil de usuario con la información proporcionada.\"\"\"\n",
        "    print(\"Perfil de usuario:\")\n",
        "    for clave, valor in informacion.items():\n",
        "        print(f\"{clave.capitalize()}: {valor}\")\n",
        "\n",
        "crear_perfil(nombre=\"Laura\", edad=28, ciudad=\"Barcelona\", profesion=\"Ingeniera\")\n"
      ],
      "metadata": {
        "id": "ovfbF1bcaYxU"
      },
      "execution_count": null,
      "outputs": []
    },
    {
      "cell_type": "markdown",
      "source": [
        "### Ejercicios:"
      ],
      "metadata": {
        "id": "soFcgT0_bpfG"
      }
    },
    {
      "cell_type": "markdown",
      "source": [
        "**Ejercicio 2.1.**\n",
        "\n",
        "Función de envío de notificaciones:\n",
        "\n",
        "Escribe una función enviar_notificacion(mensaje, *usuarios) que envíe un mensaje a múltiples usuarios."
      ],
      "metadata": {
        "id": "hiwNZzXAcJfK"
      }
    },
    {
      "cell_type": "code",
      "source": [
        "\n",
        "# creando la funcion\n",
        "def enviar_notif(mensaje = \"¡Tienes una nueva notificación!\", *usuarios):\n",
        "  \"\"\"Enviar notifiaciones a diferentes usuarios\"\"\"\n",
        "  for usuario in usuarios:\n",
        "    print(f\"Enviando mensaje a {usuario}: {mensaje}\")\n",
        "\n",
        "# usando la funcion\n",
        "#enviar_notif(\"¡Tienes una nueva notificación!\", \"Angelo\", \"Jorge\", \"Katty\")\n",
        "\n"
      ],
      "metadata": {
        "id": "rvba96VLcJ6C"
      },
      "execution_count": null,
      "outputs": []
    },
    {
      "cell_type": "code",
      "source": [
        "def enviar_notif(mensaje, *usuarios):\n",
        "  \"\"\"Enviar notifiaciones a diferentes usuarios\"\"\"\n",
        "  print(f\"Enviando mensaje a {usuarios}: {mensaje}\")\n",
        "\n"
      ],
      "metadata": {
        "id": "gzayjS2zVfTT"
      },
      "execution_count": null,
      "outputs": []
    },
    {
      "cell_type": "code",
      "source": [
        "enviar_notif(*, \"Angelo\", \"Jorge\", \"Katty\")"
      ],
      "metadata": {
        "id": "7iJXyonKVIqx",
        "outputId": "274c7f0b-5695-4fa3-b3d0-be9b1ca6363f",
        "colab": {
          "base_uri": "https://localhost:8080/",
          "height": 106
        }
      },
      "execution_count": null,
      "outputs": [
        {
          "output_type": "error",
          "ename": "SyntaxError",
          "evalue": "invalid syntax (<ipython-input-105-0a430a3413a9>, line 1)",
          "traceback": [
            "\u001b[0;36m  File \u001b[0;32m\"<ipython-input-105-0a430a3413a9>\"\u001b[0;36m, line \u001b[0;32m1\u001b[0m\n\u001b[0;31m    enviar_notif(*, \"Angelo\", \"Jorge\", \"Katty\")\u001b[0m\n\u001b[0m                  ^\u001b[0m\n\u001b[0;31mSyntaxError\u001b[0m\u001b[0;31m:\u001b[0m invalid syntax\n"
          ]
        }
      ]
    },
    {
      "cell_type": "code",
      "source": [
        "enviar_notif(\"¡Tienes una nueva notificación!\", \"Angelo\", \"Jorge\", \"Katty\")"
      ],
      "metadata": {
        "id": "vIdK-VFzVjgN",
        "outputId": "fb98a447-f661-4763-bf7d-4d3b0e5c3eff",
        "colab": {
          "base_uri": "https://localhost:8080/"
        }
      },
      "execution_count": null,
      "outputs": [
        {
          "output_type": "stream",
          "name": "stdout",
          "text": [
            "Enviando mensaje a ('Angelo', 'Jorge', 'Katty'): ¡Tienes una nueva notificación!\n"
          ]
        }
      ]
    },
    {
      "cell_type": "code",
      "source": [
        "# creando la funcion\n",
        "def enviar_notif(*usuarios, mensaje = \"¡Tienes una nueva notificación!\"):\n",
        "  \"\"\"Enviar notifiaciones a diferentes usuarios\"\"\"\n",
        "  for usuario in usuarios:\n",
        "    print(f\"Enviando mensaje a {usuario}: {mensaje}\")\n",
        "\n",
        "# usando la funcion\n",
        "enviar_notif(\"Angelo\", \"Jorge\", \"Katty\")"
      ],
      "metadata": {
        "id": "b5zLFTfVX7FX",
        "outputId": "5ae1e715-93f8-4f11-c2e8-a17a003a7ff1",
        "colab": {
          "base_uri": "https://localhost:8080/"
        }
      },
      "execution_count": null,
      "outputs": [
        {
          "output_type": "stream",
          "name": "stdout",
          "text": [
            "Enviando mensaje a Angelo: ¡Tienes una nueva notificación!\n",
            "Enviando mensaje a Jorge: ¡Tienes una nueva notificación!\n",
            "Enviando mensaje a Katty: ¡Tienes una nueva notificación!\n"
          ]
        }
      ]
    },
    {
      "cell_type": "code",
      "source": [
        "enviar_notif(\"Angelo\", \"Jorge\", \"Katty\", \"Jose\", mensaje = 'gracias Mia por tranquearme')"
      ],
      "metadata": {
        "id": "EQluoj-YYOFb",
        "outputId": "c6b4c776-7ae1-490b-b47b-5c8b31c15899",
        "colab": {
          "base_uri": "https://localhost:8080/"
        }
      },
      "execution_count": null,
      "outputs": [
        {
          "output_type": "stream",
          "name": "stdout",
          "text": [
            "Enviando mensaje a Angelo: gracias Mia por tranquearme\n",
            "Enviando mensaje a Jorge: gracias Mia por tranquearme\n",
            "Enviando mensaje a Katty: gracias Mia por tranquearme\n",
            "Enviando mensaje a Jose: gracias Mia por tranquearme\n"
          ]
        }
      ]
    },
    {
      "cell_type": "code",
      "source": [
        "\n",
        "def my_function(*argumentos):\n",
        "  print(argumentos)\n",
        "\n",
        "my_function('John', 'Caballero', 30, 'Ing. Estadístico')"
      ],
      "metadata": {
        "id": "WW7-FG5HZfnt",
        "outputId": "29ce61ef-6779-463e-fc58-504041a48506",
        "colab": {
          "base_uri": "https://localhost:8080/"
        }
      },
      "execution_count": null,
      "outputs": [
        {
          "output_type": "stream",
          "name": "stdout",
          "text": [
            "('John', 'Juan', 'Hugo')\n"
          ]
        }
      ]
    },
    {
      "cell_type": "code",
      "source": [
        "my_dict = {'key1' : 'label1',\n",
        "           'key2' : 'label2'}\n",
        "\n",
        "my_dict['key2']"
      ],
      "metadata": {
        "id": "Ek344aHMbEZm",
        "outputId": "676a5649-20e4-4722-dc20-d70bd8764f1a",
        "colab": {
          "base_uri": "https://localhost:8080/",
          "height": 35
        }
      },
      "execution_count": null,
      "outputs": [
        {
          "output_type": "execute_result",
          "data": {
            "text/plain": [
              "'label2'"
            ],
            "application/vnd.google.colaboratory.intrinsic+json": {
              "type": "string"
            }
          },
          "metadata": {},
          "execution_count": 118
        }
      ]
    },
    {
      "cell_type": "code",
      "source": [
        "def my_function(**argumentos):\n",
        "    print(f'{argumentos[\"name\"]}, {argumentos[\"last_name\"]} tiene {argumentos[\"age\"]} años')\n",
        "\n",
        "my_function(name = 'John',\n",
        "            last_name = 'Caballero',\n",
        "            age = 30,\n",
        "            prof = 'Ing. Estadístico')\n"
      ],
      "metadata": {
        "id": "VQIw9J6faG11",
        "outputId": "a4a38a0a-0b5c-47fa-9198-5059dc985bbf",
        "colab": {
          "base_uri": "https://localhost:8080/"
        }
      },
      "execution_count": null,
      "outputs": [
        {
          "output_type": "stream",
          "name": "stdout",
          "text": [
            "John, Caballero tiene 30 años\n"
          ]
        }
      ]
    },
    {
      "cell_type": "code",
      "source": [
        "def my_function(**argumentos):\n",
        "    print('los datos ingresados son: ')\n",
        "    for key, label in argumentos.items():\n",
        "        print(key, ':',  label)\n",
        "\n",
        "my_function(name = 'John',\n",
        "            last_name = 'Caballero',\n",
        "            age = 30,\n",
        "            prof = 'Ing. Estadístico')\n"
      ],
      "metadata": {
        "id": "N4NxZjq5chQE",
        "outputId": "7d690efb-0ea1-4a11-ca5f-b76ffdd487de",
        "colab": {
          "base_uri": "https://localhost:8080/"
        }
      },
      "execution_count": null,
      "outputs": [
        {
          "output_type": "stream",
          "name": "stdout",
          "text": [
            "los datos ingresados son: \n",
            "name : John\n",
            "last_name : Caballero\n",
            "age : 30\n",
            "prof : Ing. Estadístico\n"
          ]
        }
      ]
    },
    {
      "cell_type": "code",
      "source": [
        "my_dict = {'A': 'clase 1',\n",
        "           'B': 'clase 2',\n",
        "           'C': 'clase 3',\n",
        "           'D': 'clase 4'}\n",
        "\n",
        "for x, y in my_dict.items():\n",
        "  print(x, y)"
      ],
      "metadata": {
        "id": "ev1vXT84dFW6",
        "outputId": "9ad47a5d-d513-49c2-a32d-a01f790cd7c3",
        "colab": {
          "base_uri": "https://localhost:8080/"
        }
      },
      "execution_count": null,
      "outputs": [
        {
          "output_type": "stream",
          "name": "stdout",
          "text": [
            "A clase 1\n",
            "B clase 2\n",
            "C clase 3\n",
            "D clase 4\n"
          ]
        }
      ]
    },
    {
      "cell_type": "code",
      "source": [
        "def my_function_2(**argumentos):\n",
        "  print('los datos ingresados son: ')\n",
        "  for key, label in argumentos.items():\n",
        "    print(f'{key}: {label}')\n",
        "\n",
        "my_function_2(name = \"Carlos\",\n",
        "              last_name = \"García\",\n",
        "              age = 27)"
      ],
      "metadata": {
        "id": "9f_2hyusctZK",
        "outputId": "0e292cbf-5b60-405d-d838-b947b26949b4",
        "colab": {
          "base_uri": "https://localhost:8080/"
        }
      },
      "execution_count": null,
      "outputs": [
        {
          "output_type": "stream",
          "name": "stdout",
          "text": [
            "los datos ingresados son: \n",
            "name: Carlos\n",
            "last_name: García\n",
            "age: 27\n"
          ]
        }
      ]
    },
    {
      "cell_type": "markdown",
      "source": [
        "\n",
        "**Ejercicio 2.2.**\n",
        "\n",
        "Gestor de pedidos:\n",
        "\n",
        "Crea una función procesar_pedido(cliente, **articulos) que procese un pedido con diferentes artículos y sus cantidades."
      ],
      "metadata": {
        "id": "qSvmS5_FcKYN"
      }
    },
    {
      "cell_type": "code",
      "source": [],
      "metadata": {
        "id": "TYej053QcMD9"
      },
      "execution_count": null,
      "outputs": []
    },
    {
      "cell_type": "code",
      "source": [
        "lista = ['a', 'c', 'b']\n",
        "lista.sort()\n",
        "#lista.sort(reverse = True)\n",
        "print(lista)"
      ],
      "metadata": {
        "id": "J9IMySJ7g2nB",
        "outputId": "dd1fbcee-ebbc-455e-be8a-70023e0f7d2d",
        "colab": {
          "base_uri": "https://localhost:8080/"
        }
      },
      "execution_count": null,
      "outputs": [
        {
          "output_type": "stream",
          "name": "stdout",
          "text": [
            "['a', 'b', 'c']\n"
          ]
        }
      ]
    },
    {
      "cell_type": "markdown",
      "source": [
        "**Ejercicio 2.3.**\n",
        "\n",
        "Calculadora de estadísticas:\n",
        "\n",
        "Define una función calcular_estadisticas(*datos) que devuelva la media, mediana y moda de una serie de números."
      ],
      "metadata": {
        "id": "7NHehjhlcMkJ"
      }
    },
    {
      "cell_type": "code",
      "source": [
        "import statistics\n",
        "\n",
        "def calcular_estadistica(*numeros):\n",
        "    \"\"\"Calcula la media, mediana y moda.\"\"\"\n",
        "    media = statistics.mean(numeros)\n",
        "    mediana = statistics.median(numeros)\n",
        "    moda = statistics.mode(numeros)\n",
        "\n",
        "    print(f\"La media es {media}\")\n",
        "    print(f\"La mediana es {mediana}\")\n",
        "    print(f\"La moda es {moda}\")\n",
        "\n",
        "calcular_estadistica(1, 3, 6, 2)"
      ],
      "metadata": {
        "id": "tJ-cI6eccOBS",
        "colab": {
          "base_uri": "https://localhost:8080/"
        },
        "outputId": "86c75bc7-2fc5-41e3-f0ed-77cd3819e952"
      },
      "execution_count": null,
      "outputs": [
        {
          "output_type": "stream",
          "name": "stdout",
          "text": [
            "La media es 3\n",
            "La mediana es 2.5\n",
            "La moda es 1\n"
          ]
        }
      ]
    },
    {
      "cell_type": "markdown",
      "source": [
        "\n",
        "\n",
        "\n",
        "**Ejercicio 2.4.**\n",
        "\n",
        "Generador de informes:\n",
        "\n",
        "Escribe una función generar_informe(titulo, *secciones, **detalles) que genere un informe estructurado.\n"
      ],
      "metadata": {
        "id": "v3PT9rcOcPQw"
      }
    },
    {
      "cell_type": "code",
      "source": [
        "# *: Argumentos arbitrarios\n",
        "# **: argumentos arbitrarios nombrados\n",
        "\n",
        "def generar_informe(titulo, *secciones, **detalles):\n",
        "    \"\"\"Genera un informe estructurado con diferentes secciones y detalles.\"\"\"\n",
        "    print(f\"Informe: {titulo}\")\n",
        "    for seccion in secciones:\n",
        "        print(f\"Sección: {seccion}\")\n",
        "        for detalle, valor in detalles.items():\n",
        "            print(f\"{detalle}: {valor}\")\n",
        "        print()\n"
      ],
      "metadata": {
        "id": "CnBYqSpIcPwr"
      },
      "execution_count": null,
      "outputs": []
    },
    {
      "cell_type": "code",
      "source": [
        "generar_informe('Informe de prácticas',\n",
        "                'Introducción', 'Contexto', 'Conclusiones',\n",
        "                Curso = 'estadística', nota = 12, horas = 40)"
      ],
      "metadata": {
        "id": "_8cu-FpPjWui",
        "outputId": "99f7ab3d-40d0-488b-dc1a-074b643fbc5c",
        "colab": {
          "base_uri": "https://localhost:8080/"
        }
      },
      "execution_count": null,
      "outputs": [
        {
          "output_type": "stream",
          "name": "stdout",
          "text": [
            "Informe: Informe de prácticas\n",
            "Sección: Introducción\n",
            "Curso: estadística\n",
            "nota: 12\n",
            "horas: 40\n",
            "\n",
            "Sección: Contexto\n",
            "Curso: estadística\n",
            "nota: 12\n",
            "horas: 40\n",
            "\n",
            "Sección: Conclusiones\n",
            "Curso: estadística\n",
            "nota: 12\n",
            "horas: 40\n",
            "\n"
          ]
        }
      ]
    },
    {
      "cell_type": "markdown",
      "source": [
        "\n",
        "**Ejercicio 2.5.**\n",
        "\n",
        "Simulador de votación:\n",
        "\n",
        "Crea una función votar(opcion, **votantes) que registre los votos de diferentes personas."
      ],
      "metadata": {
        "id": "L0rvSBf4cQzN"
      }
    },
    {
      "cell_type": "code",
      "source": [],
      "metadata": {
        "id": "M7xKS2wOcRRa"
      },
      "execution_count": null,
      "outputs": []
    },
    {
      "cell_type": "markdown",
      "source": [
        "\n",
        "**Ejercicio 2.6.**\n",
        "\n",
        "Función de traducción:\n",
        "\n",
        "Define una función traducir(texto, idioma_destino=\"inglés\") que traduzca el texto al idioma especificado (simulado)."
      ],
      "metadata": {
        "id": "AYdypQQrcSWj"
      }
    },
    {
      "cell_type": "code",
      "source": [],
      "metadata": {
        "id": "7WL9H4QlcS8d"
      },
      "execution_count": null,
      "outputs": []
    },
    {
      "cell_type": "markdown",
      "source": [
        "\n",
        "\n",
        "\n",
        "**Ejercicio 2.7.**\n",
        "\n",
        "Personalizador de saludos:\n",
        "\n",
        "Escribe una función saludar_personalizado(nombre, mensaje=\"Hola\", **estilos) que salude aplicando diferentes estilos de texto (por ejemplo, mayúsculas, subrayado)."
      ],
      "metadata": {
        "id": "_D-iO_TjcUA1"
      }
    },
    {
      "cell_type": "code",
      "source": [],
      "metadata": {
        "id": "3fRzz4u1cUl2"
      },
      "execution_count": null,
      "outputs": []
    },
    {
      "cell_type": "markdown",
      "source": [
        "**Ejercicio 2.8.**\n",
        "\n",
        "Creador de menús dinámicos:\n",
        "\n",
        " Crea una función crear_menu(titulo, **opciones) que genere un menú interactivo en consola."
      ],
      "metadata": {
        "id": "rbS3E7CNcVvi"
      }
    },
    {
      "cell_type": "code",
      "source": [],
      "metadata": {
        "id": "LohSXKp0cWG-"
      },
      "execution_count": null,
      "outputs": []
    },
    {
      "cell_type": "markdown",
      "source": [
        "\n",
        "\n",
        "**Ejercicio 2.9.**\n",
        "\n",
        "Analizador de parámetros:\n",
        "\n",
        " Define una función analizar_parametros(*args, **kwargs) que imprima los tipos y valores de los argumentos recibidos."
      ],
      "metadata": {
        "id": "LKxXzvx9cXOi"
      }
    },
    {
      "cell_type": "code",
      "source": [],
      "metadata": {
        "id": "1jidSAC1cXqT"
      },
      "execution_count": null,
      "outputs": []
    },
    {
      "cell_type": "markdown",
      "source": [
        "\n",
        "\n",
        "\n",
        "\n",
        "\n",
        "\n",
        "\n",
        "\n",
        "\n",
        "**Ejercicio 2.10.**\n",
        "\n",
        "Función matemática genérica:\n",
        "\n",
        " Escribe una función operar_numeros(operacion, *numeros) que aplique una operación matemática (suma, multiplicación) a una serie de números."
      ],
      "metadata": {
        "id": "m-HwBFqSbsyN"
      }
    },
    {
      "cell_type": "code",
      "source": [],
      "metadata": {
        "id": "55ASXgrDcYJi"
      },
      "execution_count": null,
      "outputs": []
    },
    {
      "cell_type": "markdown",
      "source": [
        "## 3. Valores de Retorno\n"
      ],
      "metadata": {
        "id": "_syQYm27cnhy"
      }
    },
    {
      "cell_type": "markdown",
      "source": [
        "**Descripción:**\n",
        "\n",
        "**Uso de la palabra clave return:**\n",
        "- Termina la ejecución de la función y opcionalmente devuelve un valor.\n",
        "\n",
        "**Retorno de múltiples valores:**\n",
        "- Las funciones pueden devolver múltiples valores utilizando tuplas.\n",
        "\n",
        "**Retorno de funciones y objetos:**\n",
        "- Las funciones pueden devolver otras funciones u objetos complejos."
      ],
      "metadata": {
        "id": "Jj_yY7rDcqLZ"
      }
    },
    {
      "cell_type": "markdown",
      "source": [
        "### Ejemplos:"
      ],
      "metadata": {
        "id": "AsNLIvHac12j"
      }
    },
    {
      "cell_type": "code",
      "source": [
        "def suma(*numeros):\n",
        "  return sum(numeros)\n",
        "\n"
      ],
      "metadata": {
        "id": "xl8DKcJXkKnH"
      },
      "execution_count": null,
      "outputs": []
    },
    {
      "cell_type": "code",
      "source": [
        "type(suma(10, 4, 6))"
      ],
      "metadata": {
        "id": "GSxKlWh5kzQO",
        "outputId": "cd1d6054-6371-470e-fef8-ef774bc4306d",
        "colab": {
          "base_uri": "https://localhost:8080/"
        }
      },
      "execution_count": null,
      "outputs": [
        {
          "output_type": "execute_result",
          "data": {
            "text/plain": [
              "int"
            ]
          },
          "metadata": {},
          "execution_count": 158
        }
      ]
    },
    {
      "cell_type": "code",
      "source": [
        "value = suma(10, 4, 6)\n",
        "\n",
        "if value <= 20:\n",
        "  print('cliente joven')"
      ],
      "metadata": {
        "id": "4D0TeZFTkQQc",
        "outputId": "6a1f0a00-5f66-40c7-e194-172deb3b73dd",
        "colab": {
          "base_uri": "https://localhost:8080/"
        }
      },
      "execution_count": null,
      "outputs": [
        {
          "output_type": "stream",
          "name": "stdout",
          "text": [
            "cliente joven\n"
          ]
        }
      ]
    },
    {
      "cell_type": "markdown",
      "source": [
        "**Ejemplo 3.1.** Función que devuelve un diccionario:\n"
      ],
      "metadata": {
        "id": "YS5OJfxvc7mE"
      }
    },
    {
      "cell_type": "code",
      "source": [
        "def analizar_cadena(cadena):\n",
        "    \"\"\"Devuelve un diccionario con la longitud y número de vocales de la cadena.\"\"\"\n",
        "    vocales = 'aeiouAEIOU'\n",
        "    num_vocales = sum(1 for letra in cadena if letra in vocales)\n",
        "    resultado = {\n",
        "        'longitud': len(cadena),\n",
        "        'vocales': num_vocales\n",
        "    }\n",
        "    return resultado\n",
        "\n",
        "info = analizar_cadena(\"Hola Mundo\")\n",
        "print(info)\n"
      ],
      "metadata": {
        "id": "Oa-NX30OdAn_"
      },
      "execution_count": null,
      "outputs": []
    },
    {
      "cell_type": "code",
      "source": [
        "def analizar_cadena(cadena):\n",
        "    \"\"\"Devuelve un diccionario con la longitud y número de vocales de la cadena.\"\"\"\n",
        "    return len(cadena)\n",
        "\n",
        "x = analizar_cadena(\"Hola Mundo\")\n",
        "\n",
        "x*10"
      ],
      "metadata": {
        "id": "u4mUjOF9liAD",
        "outputId": "0c78abd2-a13a-4819-c2e6-8d645d66df53",
        "colab": {
          "base_uri": "https://localhost:8080/"
        }
      },
      "execution_count": null,
      "outputs": [
        {
          "output_type": "execute_result",
          "data": {
            "text/plain": [
              "100"
            ]
          },
          "metadata": {},
          "execution_count": 161
        }
      ]
    },
    {
      "cell_type": "code",
      "source": [
        "def promedio(*numeros):\n",
        "  return sum(numeros)/len(numeros)\n"
      ],
      "metadata": {
        "id": "oHNQytMalzJ9"
      },
      "execution_count": null,
      "outputs": []
    },
    {
      "cell_type": "code",
      "source": [
        "resultado = promedio(1, 4, 6, 10)\n",
        "resultado*10"
      ],
      "metadata": {
        "id": "KV3OVfqymAjg",
        "outputId": "3e2a76bd-97f2-45dc-8591-1a850ffa55b9",
        "colab": {
          "base_uri": "https://localhost:8080/"
        }
      },
      "execution_count": null,
      "outputs": [
        {
          "output_type": "execute_result",
          "data": {
            "text/plain": [
              "52.5"
            ]
          },
          "metadata": {},
          "execution_count": 165
        }
      ]
    },
    {
      "cell_type": "markdown",
      "source": [
        "\n",
        "\n",
        "**Ejemplo 3.2** Función que retorna una función personalizada:"
      ],
      "metadata": {
        "id": "PYyP-T8DdC-K"
      }
    },
    {
      "cell_type": "code",
      "source": [
        "def crear_funcion_operador(operador):\n",
        "    \"\"\"Crea una función que aplica el operador dado.\"\"\"\n",
        "    if operador == 'suma':\n",
        "        def suma(a, b):\n",
        "            return a + b\n",
        "        return suma\n",
        "    elif operador == 'resta':\n",
        "        def resta(a, b):\n",
        "            return a - b\n",
        "        return resta\n",
        "    else:\n",
        "        return None\n",
        "\n",
        "operacion_suma = crear_funcion_operador('suma')\n",
        "resultado = operacion_suma(5, 3)\n",
        "print(f\"El resultado de la suma es {resultado}\")\n"
      ],
      "metadata": {
        "id": "36LkTnPAdQFX"
      },
      "execution_count": null,
      "outputs": []
    },
    {
      "cell_type": "markdown",
      "source": [
        "**Ejemplo 3.3** Función generador:\n"
      ],
      "metadata": {
        "id": "eQoPVISIdjkI"
      }
    },
    {
      "cell_type": "code",
      "source": [
        "def generador_pares(limite):\n",
        "    \"\"\"Genera números pares hasta el límite especificado.\"\"\"\n",
        "    numero = 0\n",
        "    while numero <= limite:\n",
        "        print(numero)\n",
        "        numero += 2\n",
        "\n",
        "generador_pares(10)"
      ],
      "metadata": {
        "collapsed": true,
        "id": "oHiQTtMbdj1-"
      },
      "execution_count": null,
      "outputs": []
    },
    {
      "cell_type": "markdown",
      "source": [
        "### Ejercicios:"
      ],
      "metadata": {
        "id": "k-c3O52FeJVj"
      }
    },
    {
      "cell_type": "markdown",
      "source": [
        "**Ejercicio 3.1:** Desglosador de billetes: Crea una función desglosar_cantidad(cantidad) que devuelva el número mínimo de billetes y monedas necesarios para una cantidad dada.\n"
      ],
      "metadata": {
        "id": "PxaEnReKeS0g"
      }
    },
    {
      "cell_type": "code",
      "source": [
        "\n",
        "monto = 864.70\n",
        "\n",
        "for valor_billete in [200, 100, 50, 20, 10, 5, 2, 1, 0.5, 0.2, 0.1]:\n",
        "  if monto > 0:\n",
        "    billetes = monto//valor_billete # division entera\n",
        "    resto = monto%valor_billete # modulo\n",
        "    monto = resto\n",
        "    print(f'{billetes} de {valor_billete}')\n",
        "  else:\n",
        "    break"
      ],
      "metadata": {
        "id": "ryk4SwW3nQpj",
        "outputId": "3c4411b8-f1be-490a-8237-a9afb13fc29f",
        "colab": {
          "base_uri": "https://localhost:8080/"
        }
      },
      "execution_count": null,
      "outputs": [
        {
          "output_type": "stream",
          "name": "stdout",
          "text": [
            "4.0 de 200\n",
            "0.0 de 100\n",
            "1.0 de 50\n",
            "0.0 de 20\n",
            "1.0 de 10\n",
            "0.0 de 5\n",
            "2.0 de 2\n",
            "0.0 de 1\n",
            "1.0 de 0.5\n",
            "1.0 de 0.2\n",
            "0.0 de 0.1\n"
          ]
        }
      ]
    },
    {
      "cell_type": "code",
      "source": [],
      "metadata": {
        "id": "5hkOylLbnbBb",
        "outputId": "fc4d560e-13c3-4338-8dd4-28df1521b32e",
        "colab": {
          "base_uri": "https://localhost:8080/"
        }
      },
      "execution_count": null,
      "outputs": [
        {
          "output_type": "execute_result",
          "data": {
            "text/plain": [
              "150"
            ]
          },
          "metadata": {},
          "execution_count": 169
        }
      ]
    },
    {
      "cell_type": "code",
      "source": [
        "def desglosar_cantidad(monto):\n",
        "  num_billetes = 0\n",
        "  for valor_billete in [200, 100, 50, 20, 10, 5, 2, 1, 0.5, 0.2, 0.1]:\n",
        "    if monto > 0:\n",
        "      billetes = monto//valor_billete # division entera\n",
        "      resto = monto%valor_billete # modulo\n",
        "      monto = resto\n",
        "      print(f'{billetes} de {valor_billete}')\n",
        "      num_billetes += billetes\n",
        "    else:\n",
        "      print(f'se necesitaron {num_billetes} billetes/monedas')\n",
        "      return num_billetes\n",
        "      break\n"
      ],
      "metadata": {
        "id": "O5-kEisSeTSZ"
      },
      "execution_count": null,
      "outputs": []
    },
    {
      "cell_type": "code",
      "source": [
        "valor = desglosar_cantidad(890)"
      ],
      "metadata": {
        "id": "yBHlBy_9p2yT",
        "outputId": "edd0cca0-8b93-43d8-f962-092e009a2831",
        "colab": {
          "base_uri": "https://localhost:8080/"
        }
      },
      "execution_count": null,
      "outputs": [
        {
          "output_type": "stream",
          "name": "stdout",
          "text": [
            "4 de 200\n",
            "0 de 100\n",
            "1 de 50\n",
            "2 de 20\n",
            "se necesitaron 7 billetes/monedas\n"
          ]
        }
      ]
    },
    {
      "cell_type": "code",
      "source": [
        "valor"
      ],
      "metadata": {
        "id": "a4Yvary1qHSW",
        "outputId": "d04dac15-5953-450c-d974-99ce0f8d3075",
        "colab": {
          "base_uri": "https://localhost:8080/"
        }
      },
      "execution_count": null,
      "outputs": [
        {
          "output_type": "execute_result",
          "data": {
            "text/plain": [
              "7"
            ]
          },
          "metadata": {},
          "execution_count": 180
        }
      ]
    },
    {
      "cell_type": "markdown",
      "source": [
        "**Ejercicio 3.2:**\n",
        "Analizador de URLs: Escribe una función analizar_url(url) que retorne el protocolo, dominio y ruta de una URL."
      ],
      "metadata": {
        "id": "DDgkT09keUSi"
      }
    },
    {
      "cell_type": "code",
      "source": [],
      "metadata": {
        "id": "30yhzEbueUoz"
      },
      "execution_count": null,
      "outputs": []
    },
    {
      "cell_type": "markdown",
      "source": [
        "**Ejercicio 3.3:**\n",
        "Calculadora de estadísticas de texto: Define una función estadisticas_texto(texto) que devuelva el número de oraciones, palabras y caracteres."
      ],
      "metadata": {
        "id": "hmj4a57zeWLB"
      }
    },
    {
      "cell_type": "code",
      "source": [],
      "metadata": {
        "id": "Cc0PLkmGeWup"
      },
      "execution_count": null,
      "outputs": []
    },
    {
      "cell_type": "markdown",
      "source": [
        "**Ejercicio 3.4:**\n",
        "Gestor de inventario: Crea una función actualizar_inventario(producto, cantidad, inventario) que actualice un diccionario de inventario y lo retorne.\n"
      ],
      "metadata": {
        "id": "Ss3REMhxeYGq"
      }
    },
    {
      "cell_type": "code",
      "source": [],
      "metadata": {
        "id": "spbOEybyeYhX"
      },
      "execution_count": null,
      "outputs": []
    },
    {
      "cell_type": "markdown",
      "source": [
        "**Ejercicio 3.5:** Generador de números primos: Escribe una función generador_primos() que retorne una función que genere números primos consecutivos cada vez que se llame."
      ],
      "metadata": {
        "id": "5xgc9ra7eZVG"
      }
    },
    {
      "cell_type": "code",
      "source": [],
      "metadata": {
        "id": "NQwZ3MYceZo3"
      },
      "execution_count": null,
      "outputs": []
    },
    {
      "cell_type": "markdown",
      "source": [
        "**Ejercicio 3.6:**\n",
        "Conversor de moneda con tasas variables: Define una función convertir_moneda(cantidad, moneda_origen, moneda_destino, tasas_cambio) que utilice un diccionario de tasas de cambio."
      ],
      "metadata": {
        "id": "EYCpmwRmeaoj"
      }
    },
    {
      "cell_type": "code",
      "source": [],
      "metadata": {
        "id": "-hnTB2GWebDt"
      },
      "execution_count": null,
      "outputs": []
    },
    {
      "cell_type": "markdown",
      "source": [
        "**Ejercicio 3.7:**\n",
        "Calculador de ruta más corta: Crea una función ruta_mas_corta(grafo, inicio, fin) que devuelva la ruta más corta entre dos nodos (puedes simular el grafo como un diccionario).\n"
      ],
      "metadata": {
        "id": "afHiPlRpecrT"
      }
    },
    {
      "cell_type": "code",
      "source": [],
      "metadata": {
        "id": "NCTdspz5ecVU"
      },
      "execution_count": null,
      "outputs": []
    },
    {
      "cell_type": "markdown",
      "source": [
        "**Ejercicio 3.8:**\n",
        "Simulador de máquina expendedora: Escribe una función seleccionar_producto(producto, **inventario) que devuelva el precio y actualice el inventario.\n"
      ],
      "metadata": {
        "id": "653kosgYeeAJ"
      }
    },
    {
      "cell_type": "code",
      "source": [],
      "metadata": {
        "id": "TDhcNQAOeeU4"
      },
      "execution_count": null,
      "outputs": []
    },
    {
      "cell_type": "markdown",
      "source": [
        "**Ejercicio 3.9:**\n",
        " Sistema de recomendaciones: Define una función recomendar(producto, **productos_relacionados) que devuelva una lista de productos recomendados."
      ],
      "metadata": {
        "id": "8ZCgnE32ef0a"
      }
    },
    {
      "cell_type": "code",
      "source": [],
      "metadata": {
        "id": "GAqXydsMegRT"
      },
      "execution_count": null,
      "outputs": []
    },
    {
      "cell_type": "markdown",
      "source": [
        "**Ejercicio 3.10:**\n",
        "Análisis de sentimientos: Crea una función analizar_sentimiento(texto) que devuelva una puntuación de sentimiento (puedes simular el análisis)."
      ],
      "metadata": {
        "id": "B_IdY9hjeB1S"
      }
    },
    {
      "cell_type": "code",
      "source": [],
      "metadata": {
        "id": "z4GGRBPMDMmh"
      },
      "execution_count": null,
      "outputs": []
    },
    {
      "cell_type": "markdown",
      "source": [
        "## 4. Manejo de Excepciones en Funciones\n"
      ],
      "metadata": {
        "id": "19qfAkp_ek5f"
      }
    },
    {
      "cell_type": "markdown",
      "source": [
        "**Descripción:**\n",
        "\n",
        "**Uso de try, except, finally:**\n",
        "\n",
        "- Manejo de errores y excepciones para evitar que el programa se detenga abruptamente.\n",
        "\n",
        "\n",
        "**Propagación de excepciones:**\n",
        "\n",
        "- Las excepciones pueden propagarse hacia arriba en la pila de llamadas si no son manejadas.\n",
        "\n",
        "**Creación de excepciones personalizadas:**\n",
        "\n",
        "- Definir excepciones propias para casos específicos."
      ],
      "metadata": {
        "id": "IXbKc4XEesJD"
      }
    },
    {
      "cell_type": "markdown",
      "source": [
        "### Ejemplos:"
      ],
      "metadata": {
        "id": "RQr-Pkhge448"
      }
    },
    {
      "cell_type": "markdown",
      "source": [
        "**Ejemplo 4.1.** Manejo de excepciones al convertir tipos:"
      ],
      "metadata": {
        "id": "8GgvgY4de7rA"
      }
    },
    {
      "cell_type": "code",
      "source": [
        "def convertir_a_entero(valor):\n",
        "    \"\"\"Convierte un valor a entero si es posible.\"\"\"\n",
        "    try:\n",
        "        return int(valor)\n",
        "    except (ValueError, TypeError):\n",
        "        print(\"No se puede convertir el valor a entero.\")\n",
        "        return None\n",
        "\n",
        "numero = convertir_a_entero(\"abc\")\n"
      ],
      "metadata": {
        "id": "wFCp0W4zfCiz"
      },
      "execution_count": null,
      "outputs": []
    },
    {
      "cell_type": "markdown",
      "source": [
        "**Ejemplo 4.2.** Propagación de excepciones:"
      ],
      "metadata": {
        "id": "N2Nnfb-DfEHW"
      }
    },
    {
      "cell_type": "code",
      "source": [
        "def funcion_interna():\n",
        "    raise ValueError(\"Ocurrió un error en la función interna.\")\n",
        "\n",
        "def funcion_externa():\n",
        "    try:\n",
        "        funcion_interna()\n",
        "    except ValueError as e:\n",
        "        print(f\"Excepción capturada en función externa: {e}\")\n",
        "\n",
        "funcion_externa()\n"
      ],
      "metadata": {
        "id": "kwEeTryXfOD7"
      },
      "execution_count": null,
      "outputs": []
    },
    {
      "cell_type": "markdown",
      "source": [
        "**Ejemplo 4.3.** Excepción personalizada para validación:"
      ],
      "metadata": {
        "id": "LjtoYz07fQPy"
      }
    },
    {
      "cell_type": "code",
      "source": [
        "def verificar_edad(edad):\n",
        "    if edad < 0:\n",
        "        raise ValueError(\"La edad no puede ser negativa.\")\n",
        "    else:\n",
        "        print(f\"La edad es {edad}\")\n",
        "\n",
        "try:\n",
        "    verificar_edad(-5)\n",
        "except ValueError as e:\n",
        "    print(e)\n"
      ],
      "metadata": {
        "id": "2HaVvW5SfXeA"
      },
      "execution_count": null,
      "outputs": []
    },
    {
      "cell_type": "markdown",
      "source": [
        "\n",
        "La función raise en Python se usa para lanzar o \"levantar\" una excepción de manera explícita en el flujo de un programa. Esto es útil para manejar errores o situaciones específicas que requieran interrumpir la ejecución y notificar de un problema."
      ],
      "metadata": {
        "id": "NONS4sMLAOUB"
      }
    },
    {
      "cell_type": "code",
      "source": [
        "def verificar_positivo(x):\n",
        "    if x <= 0:\n",
        "        raise ValueError(\"El valor debe ser positivo\")\n",
        "    return x\n",
        "\n",
        "try:\n",
        "    verificar_positivo(-4)\n",
        "except ValueError as e:\n",
        "    print(e)\n"
      ],
      "metadata": {
        "id": "AR4uaIowATXT"
      },
      "execution_count": null,
      "outputs": []
    },
    {
      "cell_type": "code",
      "source": [
        "try:\n",
        "    # Intentar algo que podría causar un error\n",
        "    resultado = 10 / 0\n",
        "except ZeroDivisionError as e:\n",
        "    print(\"Se ha capturado una división por cero\")\n"
      ],
      "metadata": {
        "colab": {
          "base_uri": "https://localhost:8080/"
        },
        "id": "d73Lfy5hA0JR",
        "outputId": "61913ac1-9316-42ed-fb87-08323425aae2"
      },
      "execution_count": null,
      "outputs": [
        {
          "output_type": "stream",
          "name": "stdout",
          "text": [
            "Se ha capturado una división por cero\n"
          ]
        }
      ]
    },
    {
      "cell_type": "markdown",
      "source": [
        "- FileNotFoundError: Común al trabajar con archivos, cuando intentas abrir uno que no existe.\n",
        "\n",
        "- ZeroDivisionError: Ocurre cuando intentas dividir un número por cero, algo frecuente en cálculos matemáticos.\n",
        "\n",
        "- ValueError: Se lanza cuando un valor tiene el tipo correcto pero no el contenido adecuado (por ejemplo, al intentar convertir int(\"texto\")).\n",
        "\n",
        "- TypeError: Común cuando realizas operaciones en tipos incompatibles, como sumar una cadena y un número (\"texto\" + 5).\n",
        "\n",
        "- IndexError: Sucede al intentar acceder a un índice fuera del rango en una lista o secuencia (lista[10] en una lista de solo 5 elementos).\n",
        "\n",
        "- KeyError: Frecuente al trabajar con diccionarios cuando intentas acceder a una clave que no existe (mi_diccionario[\"clave_inexistente\"]).\n",
        "\n",
        "- AttributeError: Aparece al intentar acceder a un atributo o método que no existe en un objeto (cadena.inexistente() si cadena es un string sin ese método).\n",
        "\n",
        "- NameError: Común si intentas usar una variable o función que no ha sido definida (por ejemplo, un error tipográfico en el nombre de una variable).\n",
        "\n",
        "- ImportError / ModuleNotFoundError: Aparece al importar módulos que no existen o no están instalados.\n",
        "\n",
        "- SyntaxError: Ocurre cuando hay errores de sintaxis en el código, como faltas de paréntesis o dos puntos en estructuras condicionales o bucles.\n",
        "\n",
        "- IndentationError: Común en Python, donde la indentación es crucial; aparece cuando la indentación es incorrecta en el código."
      ],
      "metadata": {
        "id": "siEYMamuCbgw"
      }
    },
    {
      "cell_type": "markdown",
      "source": [
        "**Finally**\n",
        "\n",
        "El bloque finally en Python se usa junto con try y except para asegurar que un conjunto específico de instrucciones se ejecute siempre, sin importar si se lanzó una excepción o no. Es particularmente útil para liberar recursos, cerrar archivos, o realizar cualquier acción que deba ejecutarse sin falta, incluso si ocurre un error.\n",
        "\n",
        "**Estructura básica**"
      ],
      "metadata": {
        "id": "RNpukgfdB9pP"
      }
    },
    {
      "cell_type": "code",
      "source": [
        "try:\n",
        "    # Código que podría lanzar una excepción\n",
        "    x = 10 / 0\n",
        "except ZeroDivisionError:\n",
        "    print(\"Se ha capturado una división por cero\")\n",
        "finally:\n",
        "    print(\"Este bloque se ejecuta siempre, ocurra o no una excepción.\")\n"
      ],
      "metadata": {
        "id": "fVcaTIdpCAwp"
      },
      "execution_count": null,
      "outputs": []
    },
    {
      "cell_type": "code",
      "source": [
        "try:\n",
        "    file = open(\"archivo.txt\", \"r\")\n",
        "    # Código para leer el archivo\n",
        "except FileNotFoundError:\n",
        "    print(\"El archivo no se encontró.\")\n",
        "finally:\n",
        "    file.close()  # Se ejecuta siempre, asegurando que el archivo se cierre\n",
        "    print(\"Archivo cerrado.\")\n"
      ],
      "metadata": {
        "id": "JmVWYMN7CENZ"
      },
      "execution_count": null,
      "outputs": []
    },
    {
      "cell_type": "markdown",
      "source": [
        "### Ejercicios:"
      ],
      "metadata": {
        "id": "nq51Nw_IfbCf"
      }
    },
    {
      "cell_type": "markdown",
      "source": [
        "**Ejercicio 4.1:** Validador de entradas de usuario: Escribe una función que solicite un número al usuario y maneje excepciones por entradas inválidas.\n"
      ],
      "metadata": {
        "id": "353UcRsZfc2t"
      }
    },
    {
      "cell_type": "code",
      "source": [],
      "metadata": {
        "id": "RWi7jP8HfdQq"
      },
      "execution_count": null,
      "outputs": []
    },
    {
      "cell_type": "markdown",
      "source": [
        "**Ejercicio 4.2:** Lectura de archivos con manejo de errores: Crea una función que abra y lea un archivo, manejando posibles excepciones.\n"
      ],
      "metadata": {
        "id": "DYiNXieVfemQ"
      }
    },
    {
      "cell_type": "code",
      "source": [],
      "metadata": {
        "id": "mp5HOcB7ffCM"
      },
      "execution_count": null,
      "outputs": []
    },
    {
      "cell_type": "markdown",
      "source": [
        "**Ejercicio 4.3:**  Sistema de autenticación: Implementa una función que valide credenciales de usuario y lance excepciones personalizadas en caso de errores."
      ],
      "metadata": {
        "id": "7nixmIYefgNd"
      }
    },
    {
      "cell_type": "code",
      "source": [],
      "metadata": {
        "id": "O9d_JD-Efglp"
      },
      "execution_count": null,
      "outputs": []
    },
    {
      "cell_type": "markdown",
      "source": [
        "**Ejercicio 4.4:** Cálculo con validación de datos: Escribe una función que realice operaciones matemáticas y maneje excepciones por divisiones entre cero o tipos de datos incorrectos."
      ],
      "metadata": {
        "id": "98FptMoCfhl8"
      }
    },
    {
      "cell_type": "code",
      "source": [],
      "metadata": {
        "id": "1KFzM2Vwfh_T"
      },
      "execution_count": null,
      "outputs": []
    },
    {
      "cell_type": "markdown",
      "source": [
        "**Ejercicio 4.5:**\n",
        "Registro de errores en un sistema: Define una función que registre los errores ocurridos en un archivo de log."
      ],
      "metadata": {
        "id": "S_5FUrIefjDL"
      }
    },
    {
      "cell_type": "code",
      "source": [],
      "metadata": {
        "id": "kQo5LSyyfje8"
      },
      "execution_count": null,
      "outputs": []
    },
    {
      "cell_type": "markdown",
      "source": [
        "**Ejercicio 4.6:**\n",
        "Reintento automático después de una excepción: Crea una función que reintente una operación un número determinado de veces en caso de fallo."
      ],
      "metadata": {
        "id": "wbGIf-u5fk_w"
      }
    },
    {
      "cell_type": "code",
      "source": [],
      "metadata": {
        "id": "KR6aISnwflbl"
      },
      "execution_count": null,
      "outputs": []
    },
    {
      "cell_type": "markdown",
      "source": [
        "**Ejercicio 4.7:**\n",
        "Manejo de múltiples excepciones en funciones anidadas: Escribe funciones anidadas que manejen y propaguen diferentes excepciones."
      ],
      "metadata": {
        "id": "GbaQSdBafmgG"
      }
    },
    {
      "cell_type": "code",
      "source": [],
      "metadata": {
        "id": "x0H8Nhc1fm52"
      },
      "execution_count": null,
      "outputs": []
    },
    {
      "cell_type": "markdown",
      "source": [
        "**Ejercicio 4.8:**\n",
        "Validación de formularios: Implementa una función que valide datos de un formulario y maneje excepciones por campos faltantes o inválidos.\n"
      ],
      "metadata": {
        "id": "fZciX00Yfn_0"
      }
    },
    {
      "cell_type": "code",
      "source": [],
      "metadata": {
        "id": "hdF5KlhSfoeu"
      },
      "execution_count": null,
      "outputs": []
    },
    {
      "cell_type": "markdown",
      "source": [
        "**Ejercicio 4.9:**\n",
        "Operaciones con recursos externos: Escribe una función que maneje excepciones al conectar con una base de datos simulada."
      ],
      "metadata": {
        "id": "ZuPWfla0fpg5"
      }
    },
    {
      "cell_type": "code",
      "source": [],
      "metadata": {
        "id": "zfcNiYctfp8_"
      },
      "execution_count": null,
      "outputs": []
    },
    {
      "cell_type": "markdown",
      "source": [
        "---\n",
        "\n",
        "# Gracias por completar este laboratorio!\n",
        "\n",
        "---\n"
      ],
      "metadata": {
        "id": "ceKA4zkxfvlF"
      }
    }
  ]
}